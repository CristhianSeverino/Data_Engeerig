{
  "nbformat": 4,
  "nbformat_minor": 0,
  "metadata": {
    "colab": {
      "provenance": [],
      "collapsed_sections": [
        "NinVT31dbNPp"
      ],
      "authorship_tag": "ABX9TyO8D6oLzrBU+gJ0vywM40CS",
      "include_colab_link": true
    },
    "kernelspec": {
      "name": "python3",
      "display_name": "Python 3"
    },
    "language_info": {
      "name": "python"
    }
  },
  "cells": [
    {
      "cell_type": "markdown",
      "metadata": {
        "id": "view-in-github",
        "colab_type": "text"
      },
      "source": [
        "<a href=\"https://colab.research.google.com/github/CristhianSeverino/Data_Engeerig/blob/En-proceso/DataSinthetyc.ipynb\" target=\"_parent\"><img src=\"https://colab.research.google.com/assets/colab-badge.svg\" alt=\"Open In Colab\"/></a>"
      ]
    },
    {
      "cell_type": "markdown",
      "source": [
        "# **Notebook de Crreación de data sintetica**\n",
        "\n",
        "> Este Notebook es creacion de: **Cristhian Calle Severino**.\n",
        "\n",
        "**Si este Notebook te fue de ayuda, me encantaria saberlo**\n",
        "**Diveirtete Creando**\n",
        "\n",
        "*   **Github**: https://github.com/CristhianSeverino\n",
        "*   **Linkedin**: https://www.linkedin.com/in/cristhianandrescalleseverino/\n",
        "\n",
        "\n",
        "\n",
        "\n",
        "Este proyecto **Incluye:**\n",
        "\n",
        "* Creacion de Datos sinteticos de usuarios. en dos tablas. Esta gestion de datos sinteticos simula la optencion de data estructurada en bruto, via API o por pipeline de datos.\n",
        "\n",
        "* Configuralos acorde a las necesidades de tu proyecto.\n",
        "\n",
        "* Recomiendo estudiar la naturaleza del negocio antes de emularlo. entender sus objetivos estrategicos.\n",
        "\n",
        "\n",
        "\n",
        "\n"
      ],
      "metadata": {
        "id": "0gDtEq37y6BE"
      }
    },
    {
      "cell_type": "markdown",
      "source": [
        "# **Instalacción E Importación de Librerias**"
      ],
      "metadata": {
        "id": "NinVT31dbNPp"
      }
    },
    {
      "cell_type": "code",
      "source": [
        "!pip install faker\n",
        "from faker import Faker\n",
        "import pandas as pd\n",
        "from datetime import datetime\n",
        "import random"
      ],
      "metadata": {
        "colab": {
          "base_uri": "https://localhost:8080/"
        },
        "id": "tMxPhG_40Vbd",
        "outputId": "1fa4d35e-2e3b-450a-ebea-69125243027d"
      },
      "execution_count": 6,
      "outputs": [
        {
          "output_type": "stream",
          "name": "stdout",
          "text": [
            "Requirement already satisfied: faker in /usr/local/lib/python3.12/dist-packages (37.6.0)\n",
            "Requirement already satisfied: tzdata in /usr/local/lib/python3.12/dist-packages (from faker) (2025.2)\n"
          ]
        }
      ]
    },
    {
      "cell_type": "markdown",
      "source": [
        "# **Creación de Datos Sinteticos**\n",
        "* Las siguientes tablas sinteticas son dimenciones. las cuales pudens  ser usadas para crear una tabla de hechos\n",
        "\n",
        "**Diviertete Explorando este Proyecto y creando con el. Prospero día ☕**"
      ],
      "metadata": {
        "id": "Yb5bBp3pbUOv"
      }
    },
    {
      "cell_type": "code",
      "source": [
        "# Cofiguracion de Fake, ajustala Segun  las especifiaciones del dataset que deseas crear.\n",
        "#   * ten en cueta el publico y su comportamieento con los productos de la orgaizacion que deseas reccrear\n",
        "#   * Recuerda tener muy presemnte el modelo de negocio, su cultura e idenidad de marca\n",
        "fake= Faker('es_CO')\n",
        "Faker.seed(42)\n",
        "\n"
      ],
      "metadata": {
        "id": "k6w6t2bcyzJG"
      },
      "execution_count": 7,
      "outputs": []
    },
    {
      "cell_type": "code",
      "execution_count": 8,
      "metadata": {
        "colab": {
          "base_uri": "https://localhost:8080/"
        },
        "id": "y2KAXn5myweR",
        "outputId": "cb17fd14-5b2c-4a39-b7ce-c8b75c62ae9b"
      },
      "outputs": [
        {
          "output_type": "stream",
          "name": "stdout",
          "text": [
            "============================== Datos Generados Exitosamente ==============================\n",
            "           id                          nombre categoria  \\\n",
            "0  1000083810            María Marcela Torres         C   \n",
            "1  1000093850          David Fernández Montes         A   \n",
            "2  1000005695  Sebastián Frank Rivera Caicedo         C   \n",
            "3  1000048520         Alberto Fernando Cuesta         C   \n",
            "4  1000052581                  Andrés Barreto         C   \n",
            "\n",
            "                       correo   municipio fecha_nacimiento           telefono  \n",
            "0  buitragostiven@example.org  Valledupar       1991-06-22         6094133890  \n",
            "1     jhonherrera@example.org    Medellin       2006-06-18    (+57)3111615594  \n",
            "2        carlos10@example.net    Medellin       2001-04-22          331 64 75  \n",
            "3    leoncarolina@example.net    Medellin       1984-03-27  +57 314 835 03 05  \n",
            "4      fernanda76@example.net       Neiva       1983-08-30  +57 607 638 84 96  \n",
            "Datos Guardados en usuarios2024.csv\n"
          ]
        }
      ],
      "source": [
        "\n",
        "#================================   Lista de municipios de Caldas   ================================\n",
        "municipios = ['Manizales','Bogota','Pereira','Medellin','Cartagena','Barranquilla','Santa Marta',\n",
        "              'Neiva','Mitu','Valledupar','Mocoa'\n",
        "]\n",
        "\n",
        "#===================================   Tabla 1   =============================================\n",
        "# Generar datos para un DataFrame\n",
        "datos = []\n",
        "ids_usados = set()\n",
        "while len(datos) < 100000:\n",
        "    id_candidato = fake.random_int(min=1000000000, max=1000100000)\n",
        "    if id_candidato not in ids_usados:\n",
        "        ids_usados.add(id_candidato)\n",
        "        datos.append({\n",
        "            'id': id_candidato,\n",
        "            'nombre': fake.name(),\n",
        "            'categoria': fake.random_element(['A', 'B', 'C']),\n",
        "            'correo': fake.email(),\n",
        "            'municipio': fake.random_element(municipios),\n",
        "            'fecha_nacimiento': fake.date_of_birth(minimum_age=18, maximum_age=45),\n",
        "            'telefono': fake.phone_number(),\n",
        "        })\n",
        "\n",
        "print(\"=\"*30 + \" Datos Generados Exitosamente \" + \"=\"*30)\n",
        "\n",
        "#====================================   Crear un DataFrame con pandas   ================================================\n",
        "df = pd.DataFrame(datos)\n",
        "print(df.head())\n",
        "\n",
        "#================================================   Guardar en CSV  ==================================================\n",
        "# Cambia el nombre segun la necesidad\n",
        "df.to_csv('ClientesSinteticos.csv', index=False, encoding='utf-8')\n",
        "print(\"Datos Guardados en usuarios2024.csv\")"
      ]
    },
    {
      "cell_type": "code",
      "source": [
        "#===================================   Tabla 2   =============================================\n",
        "\n",
        "# Extrae los IDs geneerados para el primer Data Frame\n",
        "\n",
        "ids_disponibles = df['id'].tolist()\n",
        "\n",
        "# Lista de servicios posibles\n",
        "servicios = ['Plan A','Plan B', 'Plan C']\n",
        "#===========================   Generar datos para el segundo DataFrame (servicios_usados)   =============================\n",
        "datos_servicios = []\n",
        "num_registros = 200000\n",
        "\n",
        "# Asegurar que cada Id se use al menos una vez\n",
        "for id_afiliado in ids_disponibles:\n",
        "    datos_servicios.append({\n",
        "        'id' : id_afiliado,\n",
        "        'servicio' : fake.random_element(elements=servicios),\n",
        "        'fecha': fake.date_between(start_date=datetime(2025, 1, 1), end_date=datetime(2025, 7, 31))\n",
        "    })\n",
        "\n",
        "# Generar registros adicionales para alcanzar num_registros\n",
        "while len(datos_servicios) < num_registros:\n",
        "    datos_servicios.append({\n",
        "        'id' : random.choice(ids_disponibles),\n",
        "        'servicio' : fake.random_element(elements=servicios),\n",
        "        'fecha':fake.date_between(start_date=datetime(2025, 1, 1), end_date=datetime(2025, 7, 31))\n",
        "        })\n",
        "\n",
        "df_servicios = pd.DataFrame(datos_servicios)\n",
        "print(df_servicios.head())\n",
        "print(\"=\"*70)\n",
        "print(\"Descripción del data Frame:   .describe()\")\n",
        "print(\"=\"*70)\n",
        "print(df_servicios.describe())\n",
        "print(\"=\"*70)\n",
        "print(\"Informació del data Frame: .info()\")\n",
        "print(\"=\"*70)\n",
        "print(df_servicios.info())\n",
        "\n",
        "#================================================   Guardar en CSV   ==================================================\n",
        "df_servicios.to_csv('servicios_usados.csv', index=False, encoding='utf-8')\n",
        "print(\"Datos Guardados en servicios_usados.csv\")\n"
      ],
      "metadata": {
        "colab": {
          "base_uri": "https://localhost:8080/"
        },
        "id": "5TOqFSk62_Zr",
        "outputId": "87c3a658-13ec-42bb-e639-2d96335a83e5"
      },
      "execution_count": 9,
      "outputs": [
        {
          "output_type": "stream",
          "name": "stdout",
          "text": [
            "           id servicio       fecha\n",
            "0  1000083810   Plan C  2025-04-05\n",
            "1  1000093850   Plan C  2025-07-02\n",
            "2  1000005695   Plan C  2025-03-17\n",
            "3  1000048520   Plan B  2025-01-29\n",
            "4  1000052581   Plan A  2025-06-08\n",
            "======================================================================\n",
            "Descripción del data Frame:   .describe()\n",
            "======================================================================\n",
            "                 id\n",
            "count  2.000000e+05\n",
            "mean   1.000050e+09\n",
            "std    2.884794e+04\n",
            "min    1.000000e+09\n",
            "25%    1.000025e+09\n",
            "50%    1.000050e+09\n",
            "75%    1.000075e+09\n",
            "max    1.000100e+09\n",
            "======================================================================\n",
            "Informació del data Frame: .info()\n",
            "======================================================================\n",
            "<class 'pandas.core.frame.DataFrame'>\n",
            "RangeIndex: 200000 entries, 0 to 199999\n",
            "Data columns (total 3 columns):\n",
            " #   Column    Non-Null Count   Dtype \n",
            "---  ------    --------------   ----- \n",
            " 0   id        200000 non-null  int64 \n",
            " 1   servicio  200000 non-null  object\n",
            " 2   fecha     200000 non-null  object\n",
            "dtypes: int64(1), object(2)\n",
            "memory usage: 4.6+ MB\n",
            "None\n",
            "Datos Guardados en servicios_usados.csv\n"
          ]
        }
      ]
    },
    {
      "cell_type": "code",
      "metadata": {
        "colab": {
          "base_uri": "https://localhost:8080/"
        },
        "id": "72b5e2c1",
        "outputId": "e74c9be3-35eb-4cda-a554-3d5318afcf5c"
      },
      "source": [
        "#===================================   Tabla 3   =============================================\n",
        "\n",
        "# Extrae los IDs geneerados para el primer Data Frame\n",
        "\n",
        "ids_disponibles = df['id'].tolist()\n",
        "\n",
        "# Lista de servicios posibles\n",
        "combo_facturado = ['Combo Familiar', 'Compo Plus','Combo Total']\n",
        "#===========================   Generar datos para el segundo DataFrame (servicios_usados)   =============================\n",
        "datos_combos = []\n",
        "num_registros2 = 150000\n",
        "\n",
        "# Asegurar que cada Id se use al menos una vez\n",
        "for id_afiliado in ids_disponibles:\n",
        "    datos_combos.append({\n",
        "        'id' : id_afiliado,\n",
        "        'tipo_combo' : fake.random_element(elements=combo_facturado),\n",
        "        'monto': fake.random_int(min=100000, max=145000),\n",
        "        'fecha': fake.date_between(start_date=datetime(2025, 1, 1), end_date=datetime(2025, 7, 31))\n",
        "    })\n",
        "\n",
        "# Generar registros adicionales para alcanzar num_registros\n",
        "while len(datos_combos) < num_registros2:\n",
        "    datos_combos.append({\n",
        "        'id' : random.choice(ids_disponibles),\n",
        "        'tipo_combo' : fake.random_element(elements=combo_facturado),\n",
        "        'monto': fake.random_int(min=100000, max=145000),\n",
        "        'fecha':fake.date_between(start_date=datetime(2025, 1, 1), end_date=datetime(2025, 7, 31))\n",
        "        })\n",
        "\n",
        "df_combos = pd.DataFrame(datos_combos)\n",
        "print(df_combos.head())\n",
        "print(\"=\"*70)\n",
        "print(\"Descripción del data Frame:   .describe()\")\n",
        "print(\"=\"*70)\n",
        "print(df_combos.describe())\n",
        "print(\"=\"*70)\n",
        "print(\"Informació del data Frame: .info()\")\n",
        "print(\"=\"*70)\n",
        "print(df_combos.info())\n",
        "\n",
        "#================================================   Guardar en CSV   ==================================================\n",
        "df_combos.to_csv('combos_vendidos', index=False, encoding='utf-8')\n",
        "print(\"Datos Guardados en combos_vendidos.csv\")\n",
        "\n"
      ],
      "execution_count": 10,
      "outputs": [
        {
          "output_type": "stream",
          "name": "stdout",
          "text": [
            "           id      tipo_combo   monto       fecha\n",
            "0  1000083810  Combo Familiar  114335  2025-04-02\n",
            "1  1000093850     Combo Total  120319  2025-02-27\n",
            "2  1000005695  Combo Familiar  140276  2025-02-14\n",
            "3  1000048520     Combo Total  139882  2025-04-23\n",
            "4  1000052581      Compo Plus  139388  2025-06-16\n",
            "======================================================================\n",
            "Descripción del data Frame:   .describe()\n",
            "======================================================================\n",
            "                 id          monto\n",
            "count  1.500000e+05  150000.000000\n",
            "mean   1.000050e+09  122515.069800\n",
            "std    2.887038e+04   12979.539416\n",
            "min    1.000000e+09  100000.000000\n",
            "25%    1.000025e+09  111299.000000\n",
            "50%    1.000050e+09  122544.000000\n",
            "75%    1.000075e+09  133720.000000\n",
            "max    1.000100e+09  145000.000000\n",
            "======================================================================\n",
            "Informació del data Frame: .info()\n",
            "======================================================================\n",
            "<class 'pandas.core.frame.DataFrame'>\n",
            "RangeIndex: 150000 entries, 0 to 149999\n",
            "Data columns (total 4 columns):\n",
            " #   Column      Non-Null Count   Dtype \n",
            "---  ------      --------------   ----- \n",
            " 0   id          150000 non-null  int64 \n",
            " 1   tipo_combo  150000 non-null  object\n",
            " 2   monto       150000 non-null  int64 \n",
            " 3   fecha       150000 non-null  object\n",
            "dtypes: int64(2), object(2)\n",
            "memory usage: 4.6+ MB\n",
            "None\n",
            "Datos Guardados en combos_vendidos.csv\n"
          ]
        }
      ]
    },
    {
      "cell_type": "markdown",
      "source": [
        "# ***Verifica la Crreacion de los CSV en el icono de carpeta.costado izquiero de colab***\n",
        "\n",
        "**Diviertete creando** si este poyecto t fue de ayuda. pasa por mi linkedin y cuentame como te ayudo. ☕"
      ],
      "metadata": {
        "id": "bMc31ythgMZH"
      }
    },
    {
      "cell_type": "code",
      "source": [],
      "metadata": {
        "id": "1bisauNPHqaT"
      },
      "execution_count": null,
      "outputs": []
    }
  ]
}