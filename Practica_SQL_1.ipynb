{
  "nbformat": 4,
  "nbformat_minor": 0,
  "metadata": {
    "colab": {
      "provenance": [],
      "collapsed_sections": [
        "NinVT31dbNPp"
      ],
      "authorship_tag": "ABX9TyNIFMJb7MSFrZoQlJiqZGFo",
      "include_colab_link": true
    },
    "kernelspec": {
      "name": "python3",
      "display_name": "Python 3"
    },
    "language_info": {
      "name": "python"
    }
  },
  "cells": [
    {
      "cell_type": "markdown",
      "metadata": {
        "id": "view-in-github",
        "colab_type": "text"
      },
      "source": [
        "<a href=\"https://colab.research.google.com/github/CristhianSeverino/Data_Engeerig/blob/En-proceso/Practica_SQL_1.ipynb\" target=\"_parent\"><img src=\"https://colab.research.google.com/assets/colab-badge.svg\" alt=\"Open In Colab\"/></a>"
      ]
    },
    {
      "cell_type": "markdown",
      "source": [
        "# **Notebook de Practica de SQL**\n",
        "\n",
        "> Este Notebook es creacion de: **Cristhian Calle Severino**.\n",
        "\n",
        "**Si este Notebook te fue de ayuda, me encantaria saberlo**\n",
        "**Diviertete Creando**\n",
        "\n",
        "*   **Github**: https://github.com/CristhianSeverino\n",
        "*   **Linkedin**: https://www.linkedin.com/in/cristhianandrescalleseverino/\n",
        "\n",
        "\n",
        "\n",
        "\n",
        "\n"
      ],
      "metadata": {
        "id": "0gDtEq37y6BE"
      }
    },
    {
      "cell_type": "markdown",
      "source": [
        "\n",
        ">Este proyecto **Incluye:**😎\n",
        "\n",
        "* Creacion de datos sinteticos. Se crean cinco tablas sinteticas usando faker. estas tablas obedecen a un diagrama de estrella.\n",
        "* Exploracion y coneccion con una db. usando metodos magicos del notebook.\n",
        "* Incluye Resopuesta correcta y Prueba.\n"
      ],
      "metadata": {
        "id": "d9T3Em_uuU6Y"
      }
    },
    {
      "cell_type": "markdown",
      "source": [
        "# **Instalacción E Importación de Librerias**"
      ],
      "metadata": {
        "id": "NinVT31dbNPp"
      }
    },
    {
      "cell_type": "code",
      "source": [
        "!pip install faker\n",
        "!pip install pandas sqlalchemy mysqlclient faker\n",
        "!pip install ipython-sql==0.5.0 prettytable==3.9.0\n",
        "\n",
        "print(\"=\"*150)\n",
        "print(\" \"*50+\"Librerias Instaladas ;)\")\n",
        "print(\"=\"*150)\n",
        "from faker import Faker\n",
        "import pandas as pd\n",
        "from datetime import datetime\n",
        "import random\n",
        "from sqlalchemy import create_engine\n",
        "import numpy as np\n",
        "import os as os\n",
        "import locale\n",
        "\n",
        "\n",
        "print(\"=\"*150)\n",
        "print(\" \"*50+\"Librerias Importadas ;)\")\n",
        "print(\"=\"*150)\n",
        "\n",
        "%load_ext sql\n",
        "print(\"=\"*150)\n",
        "print(\" \"*50+\"Extensión sql Cargada ;)\")\n",
        "print(\"=\"*150)"
      ],
      "metadata": {
        "colab": {
          "base_uri": "https://localhost:8080/",
          "height": 0
        },
        "id": "tMxPhG_40Vbd",
        "outputId": "f6f74890-c3fe-46fd-d2b7-8921574b93c6"
      },
      "execution_count": 23,
      "outputs": [
        {
          "output_type": "stream",
          "name": "stdout",
          "text": [
            "Requirement already satisfied: faker in /usr/local/lib/python3.12/dist-packages (37.6.0)\n",
            "Requirement already satisfied: tzdata in /usr/local/lib/python3.12/dist-packages (from faker) (2025.2)\n",
            "Requirement already satisfied: pandas in /usr/local/lib/python3.12/dist-packages (2.2.2)\n",
            "Requirement already satisfied: sqlalchemy in /usr/local/lib/python3.12/dist-packages (2.0.43)\n",
            "Requirement already satisfied: mysqlclient in /usr/local/lib/python3.12/dist-packages (2.2.7)\n",
            "Requirement already satisfied: faker in /usr/local/lib/python3.12/dist-packages (37.6.0)\n",
            "Requirement already satisfied: numpy>=1.26.0 in /usr/local/lib/python3.12/dist-packages (from pandas) (2.0.2)\n",
            "Requirement already satisfied: python-dateutil>=2.8.2 in /usr/local/lib/python3.12/dist-packages (from pandas) (2.9.0.post0)\n",
            "Requirement already satisfied: pytz>=2020.1 in /usr/local/lib/python3.12/dist-packages (from pandas) (2025.2)\n",
            "Requirement already satisfied: tzdata>=2022.7 in /usr/local/lib/python3.12/dist-packages (from pandas) (2025.2)\n",
            "Requirement already satisfied: greenlet>=1 in /usr/local/lib/python3.12/dist-packages (from sqlalchemy) (3.2.4)\n",
            "Requirement already satisfied: typing-extensions>=4.6.0 in /usr/local/lib/python3.12/dist-packages (from sqlalchemy) (4.15.0)\n",
            "Requirement already satisfied: six>=1.5 in /usr/local/lib/python3.12/dist-packages (from python-dateutil>=2.8.2->pandas) (1.17.0)\n",
            "Requirement already satisfied: ipython-sql==0.5.0 in /usr/local/lib/python3.12/dist-packages (0.5.0)\n",
            "Requirement already satisfied: prettytable==3.9.0 in /usr/local/lib/python3.12/dist-packages (3.9.0)\n",
            "Requirement already satisfied: ipython in /usr/local/lib/python3.12/dist-packages (from ipython-sql==0.5.0) (7.34.0)\n",
            "Requirement already satisfied: sqlalchemy>=2.0 in /usr/local/lib/python3.12/dist-packages (from ipython-sql==0.5.0) (2.0.43)\n",
            "Requirement already satisfied: sqlparse in /usr/local/lib/python3.12/dist-packages (from ipython-sql==0.5.0) (0.5.3)\n",
            "Requirement already satisfied: six in /usr/local/lib/python3.12/dist-packages (from ipython-sql==0.5.0) (1.17.0)\n",
            "Requirement already satisfied: ipython-genutils in /usr/local/lib/python3.12/dist-packages (from ipython-sql==0.5.0) (0.2.0)\n",
            "Requirement already satisfied: wcwidth in /usr/local/lib/python3.12/dist-packages (from prettytable==3.9.0) (0.2.13)\n",
            "Requirement already satisfied: greenlet>=1 in /usr/local/lib/python3.12/dist-packages (from sqlalchemy>=2.0->ipython-sql==0.5.0) (3.2.4)\n",
            "Requirement already satisfied: typing-extensions>=4.6.0 in /usr/local/lib/python3.12/dist-packages (from sqlalchemy>=2.0->ipython-sql==0.5.0) (4.15.0)\n",
            "Requirement already satisfied: setuptools>=18.5 in /usr/local/lib/python3.12/dist-packages (from ipython->ipython-sql==0.5.0) (75.2.0)\n",
            "Requirement already satisfied: jedi>=0.16 in /usr/local/lib/python3.12/dist-packages (from ipython->ipython-sql==0.5.0) (0.19.2)\n",
            "Requirement already satisfied: decorator in /usr/local/lib/python3.12/dist-packages (from ipython->ipython-sql==0.5.0) (4.4.2)\n",
            "Requirement already satisfied: pickleshare in /usr/local/lib/python3.12/dist-packages (from ipython->ipython-sql==0.5.0) (0.7.5)\n",
            "Requirement already satisfied: traitlets>=4.2 in /usr/local/lib/python3.12/dist-packages (from ipython->ipython-sql==0.5.0) (5.7.1)\n",
            "Requirement already satisfied: prompt-toolkit!=3.0.0,!=3.0.1,<3.1.0,>=2.0.0 in /usr/local/lib/python3.12/dist-packages (from ipython->ipython-sql==0.5.0) (3.0.51)\n",
            "Requirement already satisfied: pygments in /usr/local/lib/python3.12/dist-packages (from ipython->ipython-sql==0.5.0) (2.19.2)\n",
            "Requirement already satisfied: backcall in /usr/local/lib/python3.12/dist-packages (from ipython->ipython-sql==0.5.0) (0.2.0)\n",
            "Requirement already satisfied: matplotlib-inline in /usr/local/lib/python3.12/dist-packages (from ipython->ipython-sql==0.5.0) (0.1.7)\n",
            "Requirement already satisfied: pexpect>4.3 in /usr/local/lib/python3.12/dist-packages (from ipython->ipython-sql==0.5.0) (4.9.0)\n",
            "Requirement already satisfied: parso<0.9.0,>=0.8.4 in /usr/local/lib/python3.12/dist-packages (from jedi>=0.16->ipython->ipython-sql==0.5.0) (0.8.5)\n",
            "Requirement already satisfied: ptyprocess>=0.5 in /usr/local/lib/python3.12/dist-packages (from pexpect>4.3->ipython->ipython-sql==0.5.0) (0.7.0)\n",
            "======================================================================================================================================================\n",
            "                                                  Librerias Instaladas ;)\n",
            "======================================================================================================================================================\n",
            "======================================================================================================================================================\n",
            "                                                  Librerias Importadas ;)\n",
            "======================================================================================================================================================\n",
            "The sql extension is already loaded. To reload it, use:\n",
            "  %reload_ext sql\n",
            "======================================================================================================================================================\n",
            "                                                  Extensión sql Cargada ;)\n",
            "======================================================================================================================================================\n"
          ]
        }
      ]
    },
    {
      "cell_type": "markdown",
      "source": [
        "# **Creación de Datos Sinteticos**\n",
        "\n",
        "  * El presente notebook y sus ejercicios de SQL se basan en una base de datos creada con **datos sinteticos**. en este apartado encontraras las **funciones y la ejecucion de las funciones** que lo hacen posible.\n",
        "  * Adaptalas acorde a lo que necesites o quieras crear.**Puedes agrandar los datasets, a tu gusto 😎**.\n",
        "  * La Base de datos se carga en esta seccion a **SQLite** ideal para practicar SQL en entorno Colab.\n",
        "\n",
        "**Diviertete Explorando este Proyecto y creando con el. Prospero día ☕**"
      ],
      "metadata": {
        "id": "Yb5bBp3pbUOv"
      }
    },
    {
      "cell_type": "code",
      "execution_count": 24,
      "metadata": {
        "id": "y2KAXn5myweR"
      },
      "outputs": [],
      "source": [
        "#=================================   Generar Diagrama Estrella   =============================================\n",
        "# Modifica num_filas_hechos segun necesidad\n",
        "def generar_esquema_estrella(num_filas_hechos=50000):\n",
        "    fake = Faker('es_CO')\n",
        "\n",
        "    #=======================   Tablas de Dimensiones   ===============\n",
        "\n",
        "    # 1 Dimensión cliente: Simula datos base del cliente\n",
        "    dim_cliente_data = []\n",
        "    ids_usados = set()\n",
        "    num_clientes = 10000 # Definimos el número de clientes\n",
        "    while len(dim_cliente_data) < num_clientes: # Usamos num_clientes en el bucle\n",
        "        id_candidato = fake.random_int(min=1000000000, max=1000100000)\n",
        "        if id_candidato not in ids_usados:\n",
        "            ids_usados.add(id_candidato)\n",
        "            dim_cliente_data.append({\n",
        "                'id_cliente': id_candidato,\n",
        "                'nombre': fake.name(),\n",
        "                'categoria': fake.random_element(['BtoB', 'BtoC']),\n",
        "                'correo': fake.email(),\n",
        "                'fecha_nacimiento': fake.date_of_birth(minimum_age=18, maximum_age=45),\n",
        "                'telefono': fake.phone_number(),\n",
        "            })\n",
        "    dim_cliente = pd.DataFrame(dim_cliente_data)\n",
        "\n",
        "    # 2 Dimensión Producto: Simula diferentes productos.\n",
        "    num_productos = 350\n",
        "    dim_producto_data = []\n",
        "    for i in range(num_productos):\n",
        "        dim_producto_data.append({\n",
        "            'id_producto': i,\n",
        "            'nombre_producto': fake.catch_phrase(),\n",
        "            'categoria': fake.random_element(['Electrónica', 'Ropa', 'Juguetes']),\n",
        "            'precio_unitario': round(random.uniform(5.0, 500.0), 2),\n",
        "            'stock_code': f\"PROD{i+1:04d}\"\n",
        "        })\n",
        "    dim_producto = pd.DataFrame(dim_producto_data)\n",
        "\n",
        "    # 3 Dimensión Tiempo: Registra la fecha de las Transacciones.\n",
        "    fechas = pd.to_datetime(pd.date_range('2024-01-01', '2024-12-31'))\n",
        "    dim_tiempo_data = []\n",
        "    for i, fecha in enumerate(fechas):\n",
        "        dim_tiempo_data.append({\n",
        "            'id_fecha': i,\n",
        "            'fecha': fecha,\n",
        "            'año': fecha.year,\n",
        "            'mes': fecha.month,\n",
        "            'dia': fecha.day,\n",
        "            'dia_semana': fecha.day_name(),\n",
        "        })\n",
        "    dim_tiempo = pd.DataFrame(dim_tiempo_data)\n",
        "\n",
        "    # 4. Dimensión Ubicación: Desgloza la dirección\n",
        "    municipios = ['Manizales', 'Bogota', 'Pereira', 'Medellin', 'Cartagena', 'Barranquilla', 'Santa Marta', 'Neiva', 'Mitu', 'Valledupar', 'Mocoa']\n",
        "    num_ubicaciones = len(municipios)\n",
        "    dim_ubicacion_data = []\n",
        "    for i, municipio in enumerate(municipios):\n",
        "        dim_ubicacion_data.append({\n",
        "            'id_ubicacion': i,\n",
        "            'nombre_municipio': municipio,\n",
        "            'direccion': fake.address(),\n",
        "        })\n",
        "    dim_ubicacion = pd.DataFrame(dim_ubicacion_data)\n",
        "\n",
        "    # 5 Tabla de hechos (Ventas)\n",
        "    fact_ventas_data = {\n",
        "        'id_venta': np.arange(num_filas_hechos),\n",
        "        # Claves foráneas de las Dimensiones\n",
        "        'id_cliente': np.random.randint(0, num_clientes, num_filas_hechos),\n",
        "        'id_producto': np.random.randint(0, num_productos, num_filas_hechos),\n",
        "        'id_fecha': np.random.randint(0, len(fechas), num_filas_hechos),\n",
        "        'id_ubicacion': np.random.randint(0, num_ubicaciones, num_filas_hechos),\n",
        "        # Métricas de Negocio\n",
        "        'cantidad_vendida': np.random.randint(1, 10, num_filas_hechos),\n",
        "    }\n",
        "    fact_ventas = pd.DataFrame(fact_ventas_data)\n",
        "\n",
        "    # Calcular el ingreso total basándose en los precios de los productos.\n",
        "    fact_ventas = fact_ventas.merge(\n",
        "        dim_producto[['id_producto', 'precio_unitario']],\n",
        "        on='id_producto',\n",
        "        how='left'\n",
        "    )\n",
        "    fact_ventas['ingreso_total'] = fact_ventas['precio_unitario'] * fact_ventas['cantidad_vendida']\n",
        "    fact_ventas = fact_ventas.drop(columns=['precio_unitario'])\n",
        "\n",
        "    return {\n",
        "        'fact_ventas': fact_ventas,\n",
        "        'dim_cliente': dim_cliente,\n",
        "        'dim_producto': dim_producto,\n",
        "        'dim_tiempo': dim_tiempo,\n",
        "        'dim_ubicacion': dim_ubicacion\n",
        "    }\n",
        ""
      ]
    },
    {
      "cell_type": "code",
      "source": [
        "#=================================   Generar base de Datos SQL   =============================================\n",
        "# Recuerda esta funcion depende en gran parte de la estructura creada en la función anterior.\n",
        "# Antes de modificar valida que tenga coheencia con la funcion anterior y la celda de ejecución ;)\n",
        "def cargar_a_sqlite(dataframes_dict, db_path='esquema_ventas_negocio.db'):\n",
        "    \"\"\"\n",
        "    Carga El Diccionario de DataFrames de pandas a una base de datos SQLite.\n",
        "    La base de datos se guarda en un archivo local.\n",
        "\n",
        "    Args:\n",
        "        dataframes_dict (dict): Un diccionario con los DataFrames a cargar.\n",
        "        db_path (str): La ruta del archivo donde se guardará la base de datos SQLite.\n",
        "    \"\"\"\n",
        "    try:\n",
        "        # Cadena de conexión a un archivo SQLite local\n",
        "        engine_string = f'sqlite:///{db_path}'\n",
        "        engine = create_engine(engine_string)\n",
        "\n",
        "        # Si el archivo ya existe, lo eliminamos para recrearlo limpio en cada ejecución\n",
        "        if os.path.exists(db_path):\n",
        "            os.remove(db_path)\n",
        "            print(f\"🔄 Archivo de base de datos '{db_path}' existente eliminado.\")\n",
        "\n",
        "        print(f\"🔗 Conexión a la base de datos '{db_path}' establecida.\")\n",
        "\n",
        "        # Cargar cada DataFrame en su respectiva tabla\n",
        "        for table_name, df in dataframes_dict.items():\n",
        "            print(f\"⏳ Cargando tabla '{table_name}'...\")\n",
        "\n",
        "            # 'if_exists'='replace' crea la tabla si no existe o la reemplaza si ya lo hace\n",
        "            df.to_sql(\n",
        "                name=table_name,\n",
        "                con=engine,\n",
        "                if_exists='replace',\n",
        "                index=False,\n",
        "            )\n",
        "            print(\"=\"*150)\n",
        "            print(f\"{' '} ✅ Tabla '{table_name}' cargada exitosamente.\")\n",
        "            print(\"=\"*150)\n",
        "\n",
        "        print(\"\\n🎉 ¡Todos los datos han sido cargados a SQLite!\")\n",
        "\n",
        "    except Exception as e:\n",
        "        print(f\"❌ Ocurrió un error al cargar los datos: {e}\")\n"
      ],
      "metadata": {
        "id": "GVZ91NUqAmEo"
      },
      "execution_count": 25,
      "outputs": []
    },
    {
      "cell_type": "markdown",
      "source": [
        "**Ejecutar Funciones**"
      ],
      "metadata": {
        "id": "_zc8b3KFVMWn"
      }
    },
    {
      "cell_type": "code",
      "source": [
        "#=======================================   Ejecución de Funciones    =====================================\n",
        "\n",
        "# 1. Generar los DataFrames con la función `generar_esquema_estrella`\n",
        "\n",
        "print(\"Iniciando la generación de los datos de negocio... 📈\")\n",
        "\n",
        "# Puedes ajustar el número de filas de la tabla de hechos aquí\n",
        "tablas_negocio = generar_esquema_estrella(num_filas_hechos=100000)\n",
        "\n",
        "print(\"Datos generados exitosamente. 🎉\")\n",
        "\n",
        "# 2. Cargar los DataFrames en la base de datos SQLite con `cargar_a_sqlite`\n",
        "\n",
        "print(\"Iniciando la carga de datos en la base de datos SQLite... 💾\")\n",
        "# La función creará un archivo llamado 'esquema_ventas_negocio.db'\n",
        "cargar_a_sqlite(tablas_negocio)\n",
        "\n",
        "print(\"Carga completa. ✅\")"
      ],
      "metadata": {
        "colab": {
          "base_uri": "https://localhost:8080/",
          "height": 0
        },
        "id": "TV2AF9HCBQWR",
        "outputId": "832a955c-5fb8-4151-87f6-527a97557691"
      },
      "execution_count": 26,
      "outputs": [
        {
          "output_type": "stream",
          "name": "stdout",
          "text": [
            "Iniciando la generación de los datos de negocio... 📈\n",
            "Datos generados exitosamente. 🎉\n",
            "Iniciando la carga de datos en la base de datos SQLite... 💾\n",
            "🔄 Archivo de base de datos 'esquema_ventas_negocio.db' existente eliminado.\n",
            "🔗 Conexión a la base de datos 'esquema_ventas_negocio.db' establecida.\n",
            "⏳ Cargando tabla 'fact_ventas'...\n",
            "======================================================================================================================================================\n",
            "  ✅ Tabla 'fact_ventas' cargada exitosamente.\n",
            "======================================================================================================================================================\n",
            "⏳ Cargando tabla 'dim_cliente'...\n",
            "======================================================================================================================================================\n",
            "  ✅ Tabla 'dim_cliente' cargada exitosamente.\n",
            "======================================================================================================================================================\n",
            "⏳ Cargando tabla 'dim_producto'...\n",
            "======================================================================================================================================================\n",
            "  ✅ Tabla 'dim_producto' cargada exitosamente.\n",
            "======================================================================================================================================================\n",
            "⏳ Cargando tabla 'dim_tiempo'...\n",
            "======================================================================================================================================================\n",
            "  ✅ Tabla 'dim_tiempo' cargada exitosamente.\n",
            "======================================================================================================================================================\n",
            "⏳ Cargando tabla 'dim_ubicacion'...\n",
            "======================================================================================================================================================\n",
            "  ✅ Tabla 'dim_ubicacion' cargada exitosamente.\n",
            "======================================================================================================================================================\n",
            "\n",
            "🎉 ¡Todos los datos han sido cargados a SQLite!\n",
            "Carga completa. ✅\n"
          ]
        }
      ]
    },
    {
      "cell_type": "markdown",
      "source": [
        "# **Ejercicios SQL**\n",
        "\n",
        "**Despliega**\n",
        "> Aqui encontraras 10 ejercicios basicos de SQL. sientete libre de añadir celdas y crear consultas mas complejas. **Hazte las Siguientes Preguntas:**\n",
        "\n",
        "* ¿Si fuera el Director Ejecutivo que desearia ver. que Indicadores aporta valor y me ahorrarian tiempo?.\n",
        "* ¿Si fuera el Analista de datos senior. Que informacion analizaria en busca de insights de alto valor?.\n",
        "* ¿Que indicadores debo consultar dia a dia, cuales semanalmente y cuales trimestralmente?\n",
        "\n",
        "\n"
      ],
      "metadata": {
        "id": "IwgyL6YVIERr"
      }
    },
    {
      "cell_type": "code",
      "source": [
        "%load_ext sql\n",
        "%sql sqlite:///esquema_ventas_negocio.db"
      ],
      "metadata": {
        "colab": {
          "base_uri": "https://localhost:8080/",
          "height": 0
        },
        "id": "_a7Pb8cvLnZn",
        "outputId": "4e37b342-fde5-41c8-f6cd-b14ab5f9de63"
      },
      "execution_count": 27,
      "outputs": [
        {
          "output_type": "stream",
          "name": "stdout",
          "text": [
            "The sql extension is already loaded. To reload it, use:\n",
            "  %reload_ext sql\n"
          ]
        }
      ]
    },
    {
      "cell_type": "markdown",
      "source": [
        "1. **Ver solamente 10 facturas de ventas:** Esta consulta te permite ver las primeras 10 filas de la tabla fact_ventas, que contiene las métricas del negocio."
      ],
      "metadata": {
        "id": "QK7ccjZ_J0J5"
      }
    },
    {
      "cell_type": "code",
      "source": [
        "%%sql SELECT*FROM fact_ventas LIMIT 10;"
      ],
      "metadata": {
        "colab": {
          "base_uri": "https://localhost:8080/",
          "height": 284
        },
        "id": "vc4ZHM-CJyCI",
        "outputId": "3c557194-52b6-4d5d-fc69-8eeb8a13aeaf"
      },
      "execution_count": 28,
      "outputs": [
        {
          "output_type": "stream",
          "name": "stdout",
          "text": [
            " * sqlite:///esquema_ventas_negocio.db\n",
            "Done.\n"
          ]
        },
        {
          "output_type": "execute_result",
          "data": {
            "text/plain": [
              "[(0, 1808, 229, 2, 8, 5, 2152.0),\n",
              " (1, 1103, 212, 326, 2, 6, 604.86),\n",
              " (2, 326, 64, 259, 3, 4, 135.0),\n",
              " (3, 7482, 50, 156, 2, 4, 967.56),\n",
              " (4, 667, 305, 248, 6, 1, 498.86),\n",
              " (5, 1070, 303, 122, 7, 3, 107.39999999999999),\n",
              " (6, 8762, 153, 148, 5, 4, 1702.96),\n",
              " (7, 156, 30, 312, 5, 6, 517.74),\n",
              " (8, 4934, 289, 211, 2, 3, 576.48),\n",
              " (9, 1031, 159, 14, 5, 9, 3132.09)]"
            ],
            "text/html": [
              "<table>\n",
              "    <thead>\n",
              "        <tr>\n",
              "            <th>id_venta</th>\n",
              "            <th>id_cliente</th>\n",
              "            <th>id_producto</th>\n",
              "            <th>id_fecha</th>\n",
              "            <th>id_ubicacion</th>\n",
              "            <th>cantidad_vendida</th>\n",
              "            <th>ingreso_total</th>\n",
              "        </tr>\n",
              "    </thead>\n",
              "    <tbody>\n",
              "        <tr>\n",
              "            <td>0</td>\n",
              "            <td>1808</td>\n",
              "            <td>229</td>\n",
              "            <td>2</td>\n",
              "            <td>8</td>\n",
              "            <td>5</td>\n",
              "            <td>2152.0</td>\n",
              "        </tr>\n",
              "        <tr>\n",
              "            <td>1</td>\n",
              "            <td>1103</td>\n",
              "            <td>212</td>\n",
              "            <td>326</td>\n",
              "            <td>2</td>\n",
              "            <td>6</td>\n",
              "            <td>604.86</td>\n",
              "        </tr>\n",
              "        <tr>\n",
              "            <td>2</td>\n",
              "            <td>326</td>\n",
              "            <td>64</td>\n",
              "            <td>259</td>\n",
              "            <td>3</td>\n",
              "            <td>4</td>\n",
              "            <td>135.0</td>\n",
              "        </tr>\n",
              "        <tr>\n",
              "            <td>3</td>\n",
              "            <td>7482</td>\n",
              "            <td>50</td>\n",
              "            <td>156</td>\n",
              "            <td>2</td>\n",
              "            <td>4</td>\n",
              "            <td>967.56</td>\n",
              "        </tr>\n",
              "        <tr>\n",
              "            <td>4</td>\n",
              "            <td>667</td>\n",
              "            <td>305</td>\n",
              "            <td>248</td>\n",
              "            <td>6</td>\n",
              "            <td>1</td>\n",
              "            <td>498.86</td>\n",
              "        </tr>\n",
              "        <tr>\n",
              "            <td>5</td>\n",
              "            <td>1070</td>\n",
              "            <td>303</td>\n",
              "            <td>122</td>\n",
              "            <td>7</td>\n",
              "            <td>3</td>\n",
              "            <td>107.39999999999999</td>\n",
              "        </tr>\n",
              "        <tr>\n",
              "            <td>6</td>\n",
              "            <td>8762</td>\n",
              "            <td>153</td>\n",
              "            <td>148</td>\n",
              "            <td>5</td>\n",
              "            <td>4</td>\n",
              "            <td>1702.96</td>\n",
              "        </tr>\n",
              "        <tr>\n",
              "            <td>7</td>\n",
              "            <td>156</td>\n",
              "            <td>30</td>\n",
              "            <td>312</td>\n",
              "            <td>5</td>\n",
              "            <td>6</td>\n",
              "            <td>517.74</td>\n",
              "        </tr>\n",
              "        <tr>\n",
              "            <td>8</td>\n",
              "            <td>4934</td>\n",
              "            <td>289</td>\n",
              "            <td>211</td>\n",
              "            <td>2</td>\n",
              "            <td>3</td>\n",
              "            <td>576.48</td>\n",
              "        </tr>\n",
              "        <tr>\n",
              "            <td>9</td>\n",
              "            <td>1031</td>\n",
              "            <td>159</td>\n",
              "            <td>14</td>\n",
              "            <td>5</td>\n",
              "            <td>9</td>\n",
              "            <td>3132.09</td>\n",
              "        </tr>\n",
              "    </tbody>\n",
              "</table>"
            ]
          },
          "metadata": {},
          "execution_count": 28
        }
      ]
    },
    {
      "cell_type": "markdown",
      "source": [
        "\n",
        ">%%sql\n",
        "SELECT *\n",
        "FROM fact_ventas\n",
        "LIMIT 10;"
      ],
      "metadata": {
        "id": "o-MIRWsMKBG_"
      }
    },
    {
      "cell_type": "markdown",
      "source": [
        "\n",
        "\n",
        "---\n",
        "2. **Contar el número total de ventas:** Con esta consulta, puedes saber cuántas transacciones se registraron en total en la tabla de hechos.\n"
      ],
      "metadata": {
        "id": "sSiR76TTKIDE"
      }
    },
    {
      "cell_type": "code",
      "source": [
        "%%sql SELECT COUNT(*) AS total_ventas FROM fact_ventas;"
      ],
      "metadata": {
        "colab": {
          "base_uri": "https://localhost:8080/",
          "height": 95
        },
        "id": "tutF2l_lKMDL",
        "outputId": "96243c8e-5d86-489f-c89b-b65c56b50f9f"
      },
      "execution_count": 29,
      "outputs": [
        {
          "output_type": "stream",
          "name": "stdout",
          "text": [
            " * sqlite:///esquema_ventas_negocio.db\n",
            "Done.\n"
          ]
        },
        {
          "output_type": "execute_result",
          "data": {
            "text/plain": [
              "[(100000,)]"
            ],
            "text/html": [
              "<table>\n",
              "    <thead>\n",
              "        <tr>\n",
              "            <th>total_ventas</th>\n",
              "        </tr>\n",
              "    </thead>\n",
              "    <tbody>\n",
              "        <tr>\n",
              "            <td>100000</td>\n",
              "        </tr>\n",
              "    </tbody>\n",
              "</table>"
            ]
          },
          "metadata": {},
          "execution_count": 29
        }
      ]
    },
    {
      "cell_type": "markdown",
      "source": [
        ">%%sql\n",
        "SELECT COUNT(*) AS total_ventas\n",
        "FROM fact_ventas;"
      ],
      "metadata": {
        "id": "EJI3S5vrKMtS"
      }
    },
    {
      "cell_type": "markdown",
      "source": [
        "\n",
        "\n",
        "---\n",
        "3. **Calcular el ingreso total:** Esta consulta suma todos los valores de la columna ingreso_total para obtener el total de ingresos generados.\n"
      ],
      "metadata": {
        "id": "tM6RpPIwKcEz"
      }
    },
    {
      "cell_type": "code",
      "source": [
        "%%sql SELECT SUM(ingreso_total) AS ingreso_neto_total FROM fact_ventas;"
      ],
      "metadata": {
        "colab": {
          "base_uri": "https://localhost:8080/",
          "height": 95
        },
        "id": "2S_f2-TPKbL3",
        "outputId": "7505a97f-5a19-47fd-bc3f-bc1bf82ec37e"
      },
      "execution_count": 30,
      "outputs": [
        {
          "output_type": "stream",
          "name": "stdout",
          "text": [
            " * sqlite:///esquema_ventas_negocio.db\n",
            "Done.\n"
          ]
        },
        {
          "output_type": "execute_result",
          "data": {
            "text/plain": [
              "[(131952990.0300019,)]"
            ],
            "text/html": [
              "<table>\n",
              "    <thead>\n",
              "        <tr>\n",
              "            <th>ingreso_neto_total</th>\n",
              "        </tr>\n",
              "    </thead>\n",
              "    <tbody>\n",
              "        <tr>\n",
              "            <td>131952990.0300019</td>\n",
              "        </tr>\n",
              "    </tbody>\n",
              "</table>"
            ]
          },
          "metadata": {},
          "execution_count": 30
        }
      ]
    },
    {
      "cell_type": "markdown",
      "source": [
        "\n",
        "\n",
        "\n",
        ">%%sql\n",
        "SELECT SUM(ingreso_total) AS ingreso_neto_total\n",
        "FROM fact_ventas;\n"
      ],
      "metadata": {
        "id": "ilJXs0QPLCXb"
      }
    },
    {
      "cell_type": "markdown",
      "source": [
        "\n",
        "\n",
        "---\n",
        "4. **Encontrar las 5 ventas con mayor ingreso:** Con ORDER BY y DESC, puedes ordenar los resultados de mayor a menor para encontrar las transacciones más grandes.\n"
      ],
      "metadata": {
        "id": "YBKcViZnP8wq"
      }
    },
    {
      "cell_type": "code",
      "source": [
        "%%sql\n",
        "SELECT *\n",
        "FROM fact_ventas\n",
        "ORDER BY ingreso_total DESC\n",
        "LIMIT 5;"
      ],
      "metadata": {
        "colab": {
          "base_uri": "https://localhost:8080/",
          "height": 179
        },
        "id": "1sDazFkyLB6B",
        "outputId": "410659f2-7ad6-4296-f956-9237f9943dd5"
      },
      "execution_count": 31,
      "outputs": [
        {
          "output_type": "stream",
          "name": "stdout",
          "text": [
            " * sqlite:///esquema_ventas_negocio.db\n",
            "Done.\n"
          ]
        },
        {
          "output_type": "execute_result",
          "data": {
            "text/plain": [
              "[(1677, 6987, 311, 312, 4, 9, 4496.49),\n",
              " (2324, 8266, 311, 213, 8, 9, 4496.49),\n",
              " (5121, 9598, 311, 255, 1, 9, 4496.49),\n",
              " (8685, 1124, 311, 183, 3, 9, 4496.49),\n",
              " (8733, 800, 311, 2, 0, 9, 4496.49)]"
            ],
            "text/html": [
              "<table>\n",
              "    <thead>\n",
              "        <tr>\n",
              "            <th>id_venta</th>\n",
              "            <th>id_cliente</th>\n",
              "            <th>id_producto</th>\n",
              "            <th>id_fecha</th>\n",
              "            <th>id_ubicacion</th>\n",
              "            <th>cantidad_vendida</th>\n",
              "            <th>ingreso_total</th>\n",
              "        </tr>\n",
              "    </thead>\n",
              "    <tbody>\n",
              "        <tr>\n",
              "            <td>1677</td>\n",
              "            <td>6987</td>\n",
              "            <td>311</td>\n",
              "            <td>312</td>\n",
              "            <td>4</td>\n",
              "            <td>9</td>\n",
              "            <td>4496.49</td>\n",
              "        </tr>\n",
              "        <tr>\n",
              "            <td>2324</td>\n",
              "            <td>8266</td>\n",
              "            <td>311</td>\n",
              "            <td>213</td>\n",
              "            <td>8</td>\n",
              "            <td>9</td>\n",
              "            <td>4496.49</td>\n",
              "        </tr>\n",
              "        <tr>\n",
              "            <td>5121</td>\n",
              "            <td>9598</td>\n",
              "            <td>311</td>\n",
              "            <td>255</td>\n",
              "            <td>1</td>\n",
              "            <td>9</td>\n",
              "            <td>4496.49</td>\n",
              "        </tr>\n",
              "        <tr>\n",
              "            <td>8685</td>\n",
              "            <td>1124</td>\n",
              "            <td>311</td>\n",
              "            <td>183</td>\n",
              "            <td>3</td>\n",
              "            <td>9</td>\n",
              "            <td>4496.49</td>\n",
              "        </tr>\n",
              "        <tr>\n",
              "            <td>8733</td>\n",
              "            <td>800</td>\n",
              "            <td>311</td>\n",
              "            <td>2</td>\n",
              "            <td>0</td>\n",
              "            <td>9</td>\n",
              "            <td>4496.49</td>\n",
              "        </tr>\n",
              "    </tbody>\n",
              "</table>"
            ]
          },
          "metadata": {},
          "execution_count": 31
        }
      ]
    },
    {
      "cell_type": "markdown",
      "source": [
        "> %%sql\n",
        "SELECT *\n",
        "FROM fact_ventas\n",
        "ORDER BY ingreso_total DESC\n",
        "LIMIT 5;"
      ],
      "metadata": {
        "id": "jL2R1NJLQVQD"
      }
    },
    {
      "cell_type": "markdown",
      "source": [
        "\n",
        "\n",
        "---\n",
        "5. **Contar el número de clientes únicos:**\n"
      ],
      "metadata": {
        "id": "Qy4sGWNuQW7j"
      }
    },
    {
      "cell_type": "code",
      "source": [
        "%%sql\n",
        "SELECT COUNT(DISTINCT id_cliente) AS total_clientes_unicos\n",
        "FROM dim_cliente;"
      ],
      "metadata": {
        "colab": {
          "base_uri": "https://localhost:8080/",
          "height": 95
        },
        "id": "lG8YedxTQRkA",
        "outputId": "3d2af084-a917-4346-b2e7-a17e5a03ec26"
      },
      "execution_count": 32,
      "outputs": [
        {
          "output_type": "stream",
          "name": "stdout",
          "text": [
            " * sqlite:///esquema_ventas_negocio.db\n",
            "Done.\n"
          ]
        },
        {
          "output_type": "execute_result",
          "data": {
            "text/plain": [
              "[(10000,)]"
            ],
            "text/html": [
              "<table>\n",
              "    <thead>\n",
              "        <tr>\n",
              "            <th>total_clientes_unicos</th>\n",
              "        </tr>\n",
              "    </thead>\n",
              "    <tbody>\n",
              "        <tr>\n",
              "            <td>10000</td>\n",
              "        </tr>\n",
              "    </tbody>\n",
              "</table>"
            ]
          },
          "metadata": {},
          "execution_count": 32
        }
      ]
    },
    {
      "cell_type": "markdown",
      "source": [
        ">%%sql\n",
        "SELECT COUNT(DISTINCT id_cliente) AS total_clientes_unicos\n",
        "FROM dim_cliente;"
      ],
      "metadata": {
        "id": "97-tMUyCQi5F"
      }
    },
    {
      "cell_type": "markdown",
      "source": [
        "\n",
        "\n",
        "---\n",
        "6. **Sumar la cantidad vendida por categoría de producto:** Usando GROUP BY, puedes agrupar las ventas por categoria y sumar las cantidades vendidas, uniendo la tabla de hechos con la de dimensiones.\n"
      ],
      "metadata": {
        "id": "_zcQkRO5QwXD"
      }
    },
    {
      "cell_type": "code",
      "source": [
        "%%sql SELECT T2.categoria, SUM(T1.cantidad_vendida) AS cantidad_total_vendida FROM fact_ventas AS T1 JOIN dim_producto AS T2 ON T1.id_producto = T2.id_producto GROUP BY T2.categoria;"
      ],
      "metadata": {
        "colab": {
          "base_uri": "https://localhost:8080/",
          "height": 137
        },
        "id": "mP7umVPOQiVH",
        "outputId": "9f0a37ac-620b-4c96-e08d-a5558edb4e75"
      },
      "execution_count": 33,
      "outputs": [
        {
          "output_type": "stream",
          "name": "stdout",
          "text": [
            " * sqlite:///esquema_ventas_negocio.db\n",
            "Done.\n"
          ]
        },
        {
          "output_type": "execute_result",
          "data": {
            "text/plain": [
              "[('Electrónica', 166913), ('Juguetes', 175592), ('Ropa', 157087)]"
            ],
            "text/html": [
              "<table>\n",
              "    <thead>\n",
              "        <tr>\n",
              "            <th>categoria</th>\n",
              "            <th>cantidad_total_vendida</th>\n",
              "        </tr>\n",
              "    </thead>\n",
              "    <tbody>\n",
              "        <tr>\n",
              "            <td>Electrónica</td>\n",
              "            <td>166913</td>\n",
              "        </tr>\n",
              "        <tr>\n",
              "            <td>Juguetes</td>\n",
              "            <td>175592</td>\n",
              "        </tr>\n",
              "        <tr>\n",
              "            <td>Ropa</td>\n",
              "            <td>157087</td>\n",
              "        </tr>\n",
              "    </tbody>\n",
              "</table>"
            ]
          },
          "metadata": {},
          "execution_count": 33
        }
      ]
    },
    {
      "cell_type": "markdown",
      "source": [
        ">%%sql\n",
        "SELECT\n",
        "    T2.categoria,\n",
        "    SUM(T1.cantidad_vendida) AS cantidad_total_vendida\n",
        "FROM\n",
        "    fact_ventas AS T1\n",
        "JOIN\n",
        "    dim_producto AS T2 ON T1.id_producto = T2.id_producto\n",
        "GROUP BY\n",
        "    T2.categoria;"
      ],
      "metadata": {
        "id": "s6Pkd8GPQ41_"
      }
    },
    {
      "cell_type": "markdown",
      "source": [
        "\n",
        "\n",
        "---\n",
        "7. **Calcular el ingreso promedio por mes:** Esta consulta une la tabla de hechos con la de dimensión de tiempo para calcular los ingresos promedio de cada mes.\n"
      ],
      "metadata": {
        "id": "6gMNwBBnRHCv"
      }
    },
    {
      "cell_type": "code",
      "source": [
        "%%sql SELECT T2.mes, AVG(T1.ingreso_total) AS ingreso_promedio_mensual FROM fact_ventas AS T1 JOIN dim_tiempo AS T2 ON T1.id_fecha = T2.id_fecha GROUP BY T2.mes ORDER BY T2.mes;"
      ],
      "metadata": {
        "colab": {
          "base_uri": "https://localhost:8080/",
          "height": 326
        },
        "id": "J06OnxAiROmI",
        "outputId": "af2162f9-1dbc-4f61-ce02-2857debfe169"
      },
      "execution_count": 34,
      "outputs": [
        {
          "output_type": "stream",
          "name": "stdout",
          "text": [
            " * sqlite:///esquema_ventas_negocio.db\n",
            "Done.\n"
          ]
        },
        {
          "output_type": "execute_result",
          "data": {
            "text/plain": [
              "[(1, 1321.509599568396),\n",
              " (2, 1332.098514056225),\n",
              " (3, 1311.6001264933157),\n",
              " (4, 1319.209414887201),\n",
              " (5, 1313.404796660703),\n",
              " (6, 1308.858332321885),\n",
              " (7, 1328.5923847528272),\n",
              " (8, 1334.0279624536702),\n",
              " (9, 1318.123867443555),\n",
              " (10, 1315.8111419347163),\n",
              " (11, 1311.024977708158),\n",
              " (12, 1320.569511768819)]"
            ],
            "text/html": [
              "<table>\n",
              "    <thead>\n",
              "        <tr>\n",
              "            <th>mes</th>\n",
              "            <th>ingreso_promedio_mensual</th>\n",
              "        </tr>\n",
              "    </thead>\n",
              "    <tbody>\n",
              "        <tr>\n",
              "            <td>1</td>\n",
              "            <td>1321.509599568396</td>\n",
              "        </tr>\n",
              "        <tr>\n",
              "            <td>2</td>\n",
              "            <td>1332.098514056225</td>\n",
              "        </tr>\n",
              "        <tr>\n",
              "            <td>3</td>\n",
              "            <td>1311.6001264933157</td>\n",
              "        </tr>\n",
              "        <tr>\n",
              "            <td>4</td>\n",
              "            <td>1319.209414887201</td>\n",
              "        </tr>\n",
              "        <tr>\n",
              "            <td>5</td>\n",
              "            <td>1313.404796660703</td>\n",
              "        </tr>\n",
              "        <tr>\n",
              "            <td>6</td>\n",
              "            <td>1308.858332321885</td>\n",
              "        </tr>\n",
              "        <tr>\n",
              "            <td>7</td>\n",
              "            <td>1328.5923847528272</td>\n",
              "        </tr>\n",
              "        <tr>\n",
              "            <td>8</td>\n",
              "            <td>1334.0279624536702</td>\n",
              "        </tr>\n",
              "        <tr>\n",
              "            <td>9</td>\n",
              "            <td>1318.123867443555</td>\n",
              "        </tr>\n",
              "        <tr>\n",
              "            <td>10</td>\n",
              "            <td>1315.8111419347163</td>\n",
              "        </tr>\n",
              "        <tr>\n",
              "            <td>11</td>\n",
              "            <td>1311.024977708158</td>\n",
              "        </tr>\n",
              "        <tr>\n",
              "            <td>12</td>\n",
              "            <td>1320.569511768819</td>\n",
              "        </tr>\n",
              "    </tbody>\n",
              "</table>"
            ]
          },
          "metadata": {},
          "execution_count": 34
        }
      ]
    },
    {
      "cell_type": "markdown",
      "source": [
        ">%%sql\n",
        "SELECT\n",
        "    T2.mes,\n",
        "    AVG(T1.ingreso_total) AS ingreso_promedio_mensual\n",
        "FROM\n",
        "    fact_ventas AS T1\n",
        "JOIN\n",
        "    dim_tiempo AS T2 ON T1.id_fecha = T2.id_fecha\n",
        "GROUP BY\n",
        "    T2.mes\n",
        "ORDER BY\n",
        "    T2.mes;"
      ],
      "metadata": {
        "id": "xdK-ayWkRPLq"
      }
    },
    {
      "cell_type": "markdown",
      "source": [
        "\n",
        "\n",
        "---\n",
        "8. **Encontrar los productos más vendidos:** Con esta consulta, puedes identificar los productos más populares basándote en la cantidad total vendida.\n"
      ],
      "metadata": {
        "id": "HXcULIK2RWpW"
      }
    },
    {
      "cell_type": "code",
      "source": [
        "%%sql SELECT T2.nombre_producto, SUM(T1.cantidad_vendida) AS cantidad_total FROM fact_ventas AS T1 JOIN dim_producto AS T2 ON T1.id_producto = T2.id_producto GROUP BY T2.nombre_producto ORDER BY cantidad_total DESC LIMIT 10;"
      ],
      "metadata": {
        "colab": {
          "base_uri": "https://localhost:8080/",
          "height": 284
        },
        "id": "w8p1XxtyReoX",
        "outputId": "bbcb9bdd-20ed-4285-8e37-9a5ebf474188"
      },
      "execution_count": 35,
      "outputs": [
        {
          "output_type": "stream",
          "name": "stdout",
          "text": [
            " * sqlite:///esquema_ventas_negocio.db\n",
            "Done.\n"
          ]
        },
        {
          "output_type": "execute_result",
          "data": {
            "text/plain": [
              "[('Ameliorated uniform capability', 1693),\n",
              " ('Reverse-engineered asynchronous access', 1662),\n",
              " ('Managed non-volatile conglomeration', 1649),\n",
              " ('Versatile holistic function', 1646),\n",
              " ('Devolved eco-centric system engine', 1641),\n",
              " ('Fully-configurable bi-directional analyzer', 1629),\n",
              " ('Devolved stable collaboration', 1626),\n",
              " ('Persistent solution-oriented installation', 1620),\n",
              " ('Persistent background hub', 1616),\n",
              " ('Diverse upward-trending alliance', 1616)]"
            ],
            "text/html": [
              "<table>\n",
              "    <thead>\n",
              "        <tr>\n",
              "            <th>nombre_producto</th>\n",
              "            <th>cantidad_total</th>\n",
              "        </tr>\n",
              "    </thead>\n",
              "    <tbody>\n",
              "        <tr>\n",
              "            <td>Ameliorated uniform capability</td>\n",
              "            <td>1693</td>\n",
              "        </tr>\n",
              "        <tr>\n",
              "            <td>Reverse-engineered asynchronous access</td>\n",
              "            <td>1662</td>\n",
              "        </tr>\n",
              "        <tr>\n",
              "            <td>Managed non-volatile conglomeration</td>\n",
              "            <td>1649</td>\n",
              "        </tr>\n",
              "        <tr>\n",
              "            <td>Versatile holistic function</td>\n",
              "            <td>1646</td>\n",
              "        </tr>\n",
              "        <tr>\n",
              "            <td>Devolved eco-centric system engine</td>\n",
              "            <td>1641</td>\n",
              "        </tr>\n",
              "        <tr>\n",
              "            <td>Fully-configurable bi-directional analyzer</td>\n",
              "            <td>1629</td>\n",
              "        </tr>\n",
              "        <tr>\n",
              "            <td>Devolved stable collaboration</td>\n",
              "            <td>1626</td>\n",
              "        </tr>\n",
              "        <tr>\n",
              "            <td>Persistent solution-oriented installation</td>\n",
              "            <td>1620</td>\n",
              "        </tr>\n",
              "        <tr>\n",
              "            <td>Persistent background hub</td>\n",
              "            <td>1616</td>\n",
              "        </tr>\n",
              "        <tr>\n",
              "            <td>Diverse upward-trending alliance</td>\n",
              "            <td>1616</td>\n",
              "        </tr>\n",
              "    </tbody>\n",
              "</table>"
            ]
          },
          "metadata": {},
          "execution_count": 35
        }
      ]
    },
    {
      "cell_type": "markdown",
      "source": [
        ">%%sql\n",
        "SELECT\n",
        "    T2.nombre_producto,\n",
        "    SUM(T1.cantidad_vendida) AS cantidad_total\n",
        "FROM\n",
        "    fact_ventas AS T1\n",
        "JOIN\n",
        "    dim_producto AS T2 ON T1.id_producto = T2.id_producto\n",
        "GROUP BY\n",
        "    T2.nombre_producto\n",
        "ORDER BY\n",
        "    cantidad_total DESC\n",
        "LIMIT 10;"
      ],
      "metadata": {
        "id": "DHCHj-HpRfrC"
      }
    },
    {
      "cell_type": "markdown",
      "source": [
        "\n",
        "\n",
        "---\n",
        "9. **Filtrar ventas de una categoría específica:** Esta consulta utiliza la cláusula WHERE para filtrar todas las ventas que pertenecen a la categoría 'Electrónica'.\n",
        "\n"
      ],
      "metadata": {
        "id": "lhoncNRuRjBQ"
      }
    },
    {
      "cell_type": "code",
      "source": [
        "%%sql\n",
        "SELECT\n",
        "    T1.*\n",
        "FROM\n",
        "    fact_ventas AS T1\n",
        "JOIN\n",
        "    dim_producto AS T2 ON T1.id_producto = T2.id_producto\n",
        "WHERE\n",
        "    T2.categoria = 'Electrónica'\n",
        "LIMIT 10;"
      ],
      "metadata": {
        "colab": {
          "base_uri": "https://localhost:8080/",
          "height": 284
        },
        "id": "xhYTyAR2RrY3",
        "outputId": "4e853d6f-50a8-4237-f5ac-af7dafa1c399"
      },
      "execution_count": 36,
      "outputs": [
        {
          "output_type": "stream",
          "name": "stdout",
          "text": [
            " * sqlite:///esquema_ventas_negocio.db\n",
            "Done.\n"
          ]
        },
        {
          "output_type": "execute_result",
          "data": {
            "text/plain": [
              "[(897, 1103, 9, 222, 0, 8, 3355.2),\n",
              " (999, 974, 9, 203, 6, 7, 2935.7999999999997),\n",
              " (1110, 6838, 9, 124, 10, 7, 2935.7999999999997),\n",
              " (2480, 8112, 9, 147, 10, 1, 419.4),\n",
              " (2967, 107, 9, 346, 0, 8, 3355.2),\n",
              " (3332, 6248, 9, 330, 2, 6, 2516.3999999999996),\n",
              " (3523, 7419, 9, 109, 0, 4, 1677.6),\n",
              " (3637, 7460, 9, 42, 1, 5, 2097.0),\n",
              " (4367, 3265, 9, 20, 1, 9, 3774.6),\n",
              " (4756, 4515, 9, 50, 8, 7, 2935.7999999999997)]"
            ],
            "text/html": [
              "<table>\n",
              "    <thead>\n",
              "        <tr>\n",
              "            <th>id_venta</th>\n",
              "            <th>id_cliente</th>\n",
              "            <th>id_producto</th>\n",
              "            <th>id_fecha</th>\n",
              "            <th>id_ubicacion</th>\n",
              "            <th>cantidad_vendida</th>\n",
              "            <th>ingreso_total</th>\n",
              "        </tr>\n",
              "    </thead>\n",
              "    <tbody>\n",
              "        <tr>\n",
              "            <td>897</td>\n",
              "            <td>1103</td>\n",
              "            <td>9</td>\n",
              "            <td>222</td>\n",
              "            <td>0</td>\n",
              "            <td>8</td>\n",
              "            <td>3355.2</td>\n",
              "        </tr>\n",
              "        <tr>\n",
              "            <td>999</td>\n",
              "            <td>974</td>\n",
              "            <td>9</td>\n",
              "            <td>203</td>\n",
              "            <td>6</td>\n",
              "            <td>7</td>\n",
              "            <td>2935.7999999999997</td>\n",
              "        </tr>\n",
              "        <tr>\n",
              "            <td>1110</td>\n",
              "            <td>6838</td>\n",
              "            <td>9</td>\n",
              "            <td>124</td>\n",
              "            <td>10</td>\n",
              "            <td>7</td>\n",
              "            <td>2935.7999999999997</td>\n",
              "        </tr>\n",
              "        <tr>\n",
              "            <td>2480</td>\n",
              "            <td>8112</td>\n",
              "            <td>9</td>\n",
              "            <td>147</td>\n",
              "            <td>10</td>\n",
              "            <td>1</td>\n",
              "            <td>419.4</td>\n",
              "        </tr>\n",
              "        <tr>\n",
              "            <td>2967</td>\n",
              "            <td>107</td>\n",
              "            <td>9</td>\n",
              "            <td>346</td>\n",
              "            <td>0</td>\n",
              "            <td>8</td>\n",
              "            <td>3355.2</td>\n",
              "        </tr>\n",
              "        <tr>\n",
              "            <td>3332</td>\n",
              "            <td>6248</td>\n",
              "            <td>9</td>\n",
              "            <td>330</td>\n",
              "            <td>2</td>\n",
              "            <td>6</td>\n",
              "            <td>2516.3999999999996</td>\n",
              "        </tr>\n",
              "        <tr>\n",
              "            <td>3523</td>\n",
              "            <td>7419</td>\n",
              "            <td>9</td>\n",
              "            <td>109</td>\n",
              "            <td>0</td>\n",
              "            <td>4</td>\n",
              "            <td>1677.6</td>\n",
              "        </tr>\n",
              "        <tr>\n",
              "            <td>3637</td>\n",
              "            <td>7460</td>\n",
              "            <td>9</td>\n",
              "            <td>42</td>\n",
              "            <td>1</td>\n",
              "            <td>5</td>\n",
              "            <td>2097.0</td>\n",
              "        </tr>\n",
              "        <tr>\n",
              "            <td>4367</td>\n",
              "            <td>3265</td>\n",
              "            <td>9</td>\n",
              "            <td>20</td>\n",
              "            <td>1</td>\n",
              "            <td>9</td>\n",
              "            <td>3774.6</td>\n",
              "        </tr>\n",
              "        <tr>\n",
              "            <td>4756</td>\n",
              "            <td>4515</td>\n",
              "            <td>9</td>\n",
              "            <td>50</td>\n",
              "            <td>8</td>\n",
              "            <td>7</td>\n",
              "            <td>2935.7999999999997</td>\n",
              "        </tr>\n",
              "    </tbody>\n",
              "</table>"
            ]
          },
          "metadata": {},
          "execution_count": 36
        }
      ]
    },
    {
      "cell_type": "markdown",
      "source": [
        ">%%sql\n",
        "SELECT\n",
        "    T1.*\n",
        "FROM\n",
        "    fact_ventas AS T1\n",
        "JOIN\n",
        "    dim_producto AS T2 ON T1.id_producto = T2.id_producto\n",
        "WHERE\n",
        "    T2.categoria = 'Electrónica'\n",
        "LIMIT 10;"
      ],
      "metadata": {
        "id": "aFGPQd1LRqdy"
      }
    },
    {
      "cell_type": "markdown",
      "source": [
        "\n",
        "\n",
        "---\n",
        "10. **Contar ventas por día de la semana:** Esta consulta une la tabla de hechos con la de dimensión de tiempo para saber en qué días de la semana se vendió más.\n"
      ],
      "metadata": {
        "id": "zV58T2p8SFic"
      }
    },
    {
      "cell_type": "code",
      "source": [
        "%%sql SELECT T2.dia_semana, COUNT(T1.id_venta) AS numero_de_ventas FROM fact_ventas AS T1 JOIN dim_tiempo AS T2 ON T1.id_fecha = T2.id_fecha GROUP BY T2.dia_semana ORDER BY numero_de_ventas DESC;"
      ],
      "metadata": {
        "colab": {
          "base_uri": "https://localhost:8080/",
          "height": 221
        },
        "id": "inFm3aP6SPu7",
        "outputId": "08ec8ae8-b647-4342-9aae-5cd3780632db"
      },
      "execution_count": 37,
      "outputs": [
        {
          "output_type": "stream",
          "name": "stdout",
          "text": [
            " * sqlite:///esquema_ventas_negocio.db\n",
            "Done.\n"
          ]
        },
        {
          "output_type": "execute_result",
          "data": {
            "text/plain": [
              "[('Tuesday', 14683),\n",
              " ('Monday', 14403),\n",
              " ('Saturday', 14326),\n",
              " ('Friday', 14184),\n",
              " ('Thursday', 14164),\n",
              " ('Sunday', 14138),\n",
              " ('Wednesday', 14102)]"
            ],
            "text/html": [
              "<table>\n",
              "    <thead>\n",
              "        <tr>\n",
              "            <th>dia_semana</th>\n",
              "            <th>numero_de_ventas</th>\n",
              "        </tr>\n",
              "    </thead>\n",
              "    <tbody>\n",
              "        <tr>\n",
              "            <td>Tuesday</td>\n",
              "            <td>14683</td>\n",
              "        </tr>\n",
              "        <tr>\n",
              "            <td>Monday</td>\n",
              "            <td>14403</td>\n",
              "        </tr>\n",
              "        <tr>\n",
              "            <td>Saturday</td>\n",
              "            <td>14326</td>\n",
              "        </tr>\n",
              "        <tr>\n",
              "            <td>Friday</td>\n",
              "            <td>14184</td>\n",
              "        </tr>\n",
              "        <tr>\n",
              "            <td>Thursday</td>\n",
              "            <td>14164</td>\n",
              "        </tr>\n",
              "        <tr>\n",
              "            <td>Sunday</td>\n",
              "            <td>14138</td>\n",
              "        </tr>\n",
              "        <tr>\n",
              "            <td>Wednesday</td>\n",
              "            <td>14102</td>\n",
              "        </tr>\n",
              "    </tbody>\n",
              "</table>"
            ]
          },
          "metadata": {},
          "execution_count": 37
        }
      ]
    },
    {
      "cell_type": "markdown",
      "source": [
        "\n",
        "\n",
        ">%%sql\n",
        "SELECT\n",
        "    T2.dia_semana,\n",
        "    COUNT(T1.id_venta) AS numero_de_ventas\n",
        "FROM\n",
        "    fact_ventas AS T1\n",
        "JOIN\n",
        "    dim_tiempo AS T2 ON T1.id_fecha = T2.id_fecha\n",
        "GROUP BY\n",
        "    T2.dia_semana\n",
        "ORDER BY\n",
        "    numero_de_ventas DESC;\n",
        "\n"
      ],
      "metadata": {
        "id": "WME5izw5R_dt"
      }
    },
    {
      "cell_type": "markdown",
      "source": [
        "# **DIVIERTE CREANDO🤗**\n",
        "\n",
        "*Si este poyecto te fue de ayuda. pasa por mi linkedin y cuentame como te ayudo. ☕*\n",
        "\n",
        "* **linkedink:** https://www.linkedin.com/in/cristhianandrescalleseverino/\n",
        "\n",
        "He dejado Las siguientes celdas para que agregues tus consultas personalizadas, animate a **crear**.\n",
        "\n",
        "***Ser cada día un 1% mejor es la clave 🔥***"
      ],
      "metadata": {
        "id": "bMc31ythgMZH"
      }
    },
    {
      "cell_type": "code",
      "source": [],
      "metadata": {
        "id": "1bisauNPHqaT"
      },
      "execution_count": null,
      "outputs": []
    },
    {
      "cell_type": "code",
      "source": [],
      "metadata": {
        "id": "cAfoEu4iTG_w"
      },
      "execution_count": null,
      "outputs": []
    },
    {
      "cell_type": "code",
      "source": [],
      "metadata": {
        "id": "UhAAA3ffTHSL"
      },
      "execution_count": null,
      "outputs": []
    }
  ]
}