{
  "nbformat": 4,
  "nbformat_minor": 0,
  "metadata": {
    "colab": {
      "provenance": [],
      "collapsed_sections": [
        "NinVT31dbNPp"
      ],
      "authorship_tag": "ABX9TyM9p9Qc34BdKWx7wKRXMwNp",
      "include_colab_link": true
    },
    "kernelspec": {
      "name": "python3",
      "display_name": "Python 3"
    },
    "language_info": {
      "name": "python"
    }
  },
  "cells": [
    {
      "cell_type": "markdown",
      "metadata": {
        "id": "view-in-github",
        "colab_type": "text"
      },
      "source": [
        "<a href=\"https://colab.research.google.com/github/CristhianSeverino/Data_Engeerig/blob/En-proceso/Aprende_Pandas.ipynb\" target=\"_parent\"><img src=\"https://colab.research.google.com/assets/colab-badge.svg\" alt=\"Open In Colab\"/></a>"
      ]
    },
    {
      "cell_type": "markdown",
      "source": [
        "# **Quieres Pacticar o Aprender Pandas?**\n",
        "*Usa este Notebook y Mejoraras un 1% Cada dia*\n",
        "\n",
        "---\n",
        "\n",
        "\n",
        "> Este Notebook es creacion de: **Cristhian Calle Severino**.\n",
        "\n",
        "**Si este Notebook te fue de ayuda, me encantaria saberlo**\n",
        "\n",
        "***Diviertete Creando***☕\n",
        "\n",
        "*   **Github**: https://github.com/CristhianSeverino\n",
        "*   **Linkedin**: https://www.linkedin.com/in/cristhianandrescalleseverino/\n",
        "\n",
        "\n",
        "\n",
        "\n",
        "\n"
      ],
      "metadata": {
        "id": "0gDtEq37y6BE"
      }
    },
    {
      "cell_type": "markdown",
      "source": [
        "\n",
        ">Este proyecto **Incluye:**😎\n",
        "\n",
        "* Creacion de datos sinteticos. Se crea un data set sintetico usando faker.Estee s un diagrama simple de una sola tabla.💻\n",
        "* Crea el Data frame e implementa metodos. Al final de este Notebook, descubriras como exportar el DataFrame a CSV 🧮\n",
        "* Incluye Resopuesta correcta y Prueba.🧭\n"
      ],
      "metadata": {
        "id": "d9T3Em_uuU6Y"
      }
    },
    {
      "cell_type": "markdown",
      "source": [
        "# **Instalacción E Importación de Librerias**"
      ],
      "metadata": {
        "id": "NinVT31dbNPp"
      }
    },
    {
      "cell_type": "code",
      "source": [
        "!pip install faker\n",
        "print(\"=\"*150)\n",
        "print(\" \"*50+\"Librerias Instaladas ;)\")\n",
        "print(\"=\"*150)\n",
        "from faker import Faker\n",
        "import pandas as pd\n",
        "from datetime import datetime\n",
        "import random\n",
        "from sqlalchemy import create_engine\n",
        "import numpy as np\n",
        "import os as os\n",
        "import locale\n",
        "\n",
        "\n",
        "print(\"=\"*150)\n",
        "print(\" \"*50+\"Librerias Importadas ;)\")\n",
        "print(\"=\"*150)\n",
        "\n"
      ],
      "metadata": {
        "colab": {
          "base_uri": "https://localhost:8080/",
          "height": 0
        },
        "id": "tMxPhG_40Vbd",
        "outputId": "6acd70c3-3454-4aa0-b584-170501910e0c"
      },
      "execution_count": 1,
      "outputs": [
        {
          "output_type": "stream",
          "name": "stdout",
          "text": [
            "Collecting faker\n",
            "  Downloading faker-37.6.0-py3-none-any.whl.metadata (15 kB)\n",
            "Requirement already satisfied: tzdata in /usr/local/lib/python3.12/dist-packages (from faker) (2025.2)\n",
            "Downloading faker-37.6.0-py3-none-any.whl (1.9 MB)\n",
            "\u001b[?25l   \u001b[90m━━━━━━━━━━━━━━━━━━━━━━━━━━━━━━━━━━━━━━━━\u001b[0m \u001b[32m0.0/1.9 MB\u001b[0m \u001b[31m?\u001b[0m eta \u001b[36m-:--:--\u001b[0m\r\u001b[2K   \u001b[91m━━━━━━━━\u001b[0m\u001b[90m╺\u001b[0m\u001b[90m━━━━━━━━━━━━━━━━━━━━━━━━━━━━━━━\u001b[0m \u001b[32m0.4/1.9 MB\u001b[0m \u001b[31m12.2 MB/s\u001b[0m eta \u001b[36m0:00:01\u001b[0m\r\u001b[2K   \u001b[91m━━━━━━━━━━━━━━━━━━━━━━━━━━━━━━━━━━━━━━━\u001b[0m\u001b[91m╸\u001b[0m \u001b[32m1.9/1.9 MB\u001b[0m \u001b[31m34.9 MB/s\u001b[0m eta \u001b[36m0:00:01\u001b[0m\r\u001b[2K   \u001b[90m━━━━━━━━━━━━━━━━━━━━━━━━━━━━━━━━━━━━━━━━\u001b[0m \u001b[32m1.9/1.9 MB\u001b[0m \u001b[31m25.5 MB/s\u001b[0m eta \u001b[36m0:00:00\u001b[0m\n",
            "\u001b[?25hInstalling collected packages: faker\n",
            "Successfully installed faker-37.6.0\n",
            "======================================================================================================================================================\n",
            "                                                  Librerias Instaladas ;)\n",
            "======================================================================================================================================================\n",
            "======================================================================================================================================================\n",
            "                                                  Librerias Importadas ;)\n",
            "======================================================================================================================================================\n"
          ]
        }
      ]
    },
    {
      "cell_type": "markdown",
      "source": [
        "# **Creación de Datos Sinteticos**\n",
        "\n",
        "  * El presente notebook y sus ejercicios de **Pandas**🐼 se basan en un data set creado con **datos sinteticos**. en este apartado encontraras las **funciones y la ejecucion de las funciones** que lo hacen posible.\n",
        "  * Adaptalas acorde a lo que necesites o quieras crear.**Puedes agrandar los datasets, a tu gusto 😎**.\n",
        "  * En Este Proyecto Se Creara solo Una Tabla.\n",
        "\n",
        ">**Visita Mi GitHub Para ver proyectos de datos sinteticos, como usarlos, agregar mas tablas modificarlos.**\n",
        "\n",
        "**Diviertete Explorando este Proyecto y creando con el. Prospero día ☕**\n",
        "\n",
        "Despliega y analiza cada parte del siguiente codigo..."
      ],
      "metadata": {
        "id": "Yb5bBp3pbUOv"
      }
    },
    {
      "cell_type": "code",
      "execution_count": 5,
      "metadata": {
        "id": "y2KAXn5myweR"
      },
      "outputs": [],
      "source": [
        "#=================================   Generar Diagrama Estrella   =============================================\n",
        "# Modifica num_filas_hechos segun necesidad\n",
        "def generar_datos(num_filas_hechos=50000):\n",
        "    fake = Faker('es_CO')\n",
        "\n",
        "\n",
        "\n",
        "    # 1 Dimensión cliente: Simula datos base del cliente\n",
        "    dim_cliente_data = []\n",
        "    ids_usados = set()\n",
        "    num_clientes = 10000  # Definimos el número de clientes\n",
        "    while len(dim_cliente_data) < num_clientes:  # Usamos num_clientes en el bucle\n",
        "        id_candidato = fake.random_int(min=1000000000, max=1000100000)\n",
        "        if id_candidato not in ids_usados:\n",
        "            ids_usados.add(id_candidato)\n",
        "            dim_cliente_data.append({\n",
        "                'id_cliente': id_candidato,\n",
        "                'nombre': fake.name(),\n",
        "                'categoria': fake.random_element(['BtoB', 'BtoC']),\n",
        "                'correo': fake.email(),\n",
        "                'edad': fake.random_int(min=18, max=45),  # Reemplazamos fecha_nacimiento por edad\n",
        "                'telefono': fake.phone_number(),\n",
        "            })\n",
        "    dim_cliente = pd.DataFrame(dim_cliente_data)\n",
        "\n",
        "    return dim_cliente\n",
        ""
      ]
    },
    {
      "cell_type": "markdown",
      "source": [
        "**Ejecutar Funciones**"
      ],
      "metadata": {
        "id": "_zc8b3KFVMWn"
      }
    },
    {
      "cell_type": "code",
      "source": [
        "#=======================================   Ejecución de Funciones    =====================================\n",
        "\n",
        "# 1. Generar los DataFrames con la función `generar_esquema_estrella`\n",
        "\n",
        "print(\"Iniciando la generación de los datos de negocio... 📈\")\n",
        "\n",
        "# Puedes ajustar el número de filas de la tabla de hechos aquí\n",
        "dim1 = generar_datos(num_filas_hechos=100000)\n",
        "\n",
        "print(\"Datos generados exitosamente. 🎉\")\n",
        "\n",
        "\n",
        "\n",
        "print(\"Carga completa. ✅\")"
      ],
      "metadata": {
        "colab": {
          "base_uri": "https://localhost:8080/",
          "height": 0
        },
        "id": "TV2AF9HCBQWR",
        "outputId": "06db1469-8bcf-4644-f92e-2721375fc708"
      },
      "execution_count": 7,
      "outputs": [
        {
          "output_type": "stream",
          "name": "stdout",
          "text": [
            "Iniciando la generación de los datos de negocio... 📈\n",
            "Datos generados exitosamente. 🎉\n",
            "Carga completa. ✅\n"
          ]
        }
      ]
    },
    {
      "cell_type": "markdown",
      "source": [
        "# **Ejercicios Pandas**\n",
        "\n",
        "**Despliega**\n",
        "> Aqui encontraras  ejercicios basicos de **Pandas**🐼. sientete libre de añadir celdas y crear ejercicios mas complejas. **Hazte las Siguientes Preguntas:**\n",
        "\n",
        "* ¿Si fuera un ingeiero de datos, Ceientifico de Datos o Aalista de datos, que Informacion deberia buscar en estos datos?.\n",
        "* ¿Que informacion analizaria en busca de insights de alto valor?.\n",
        "* ¿Como Accedo a dicha Informacion?\n",
        "\n",
        "\n",
        "**Este Notebook ees Para Practicar Fundamentos de Pandas**\n",
        "\n"
      ],
      "metadata": {
        "id": "IwgyL6YVIERr"
      }
    },
    {
      "cell_type": "markdown",
      "source": [
        "Asignamos el dataframe Creado Co datos sinteticos a nuestro Data Frame para ejercitar con Pandas🦾\n",
        ">La forma de crear un dataframe es usando el metodo pd.DataFrame(Nombre_variable)\n",
        "Como ya lo creamos, simplemente lo asignnamos usando:\n",
        "* aprenderdf=dim1"
      ],
      "metadata": {
        "id": "pcAf09r44hek"
      }
    },
    {
      "cell_type": "code",
      "source": [
        "aprenderdf=dim1"
      ],
      "metadata": {
        "id": "_a7Pb8cvLnZn"
      },
      "execution_count": 8,
      "outputs": []
    },
    {
      "cell_type": "markdown",
      "source": [
        "**1. Mostrar El DataFrame Completo**\n",
        "> **Mostrar el DataFrame completo**\n",
        "\n",
        "print(\"DataFrame completo:\")\n",
        "\n",
        "print(aprenderdf)"
      ],
      "metadata": {
        "id": "QK7ccjZ_J0J5"
      }
    },
    {
      "cell_type": "code",
      "source": [
        "print(\"DataFrame completo:\")\n",
        "print(aprenderdf)"
      ],
      "metadata": {
        "colab": {
          "base_uri": "https://localhost:8080/",
          "height": 0
        },
        "id": "ZTxjNKG15XJV",
        "outputId": "95e97481-336a-4f1e-fe82-4f6d99e289ef"
      },
      "execution_count": 20,
      "outputs": [
        {
          "output_type": "stream",
          "name": "stdout",
          "text": [
            "DataFrame completo:\n",
            "      id_cliente                           nombre categoria  \\\n",
            "0     1000035878                     Doris Torres      BtoB   \n",
            "1     1000092369                Luisa Luz Becerra      BtoB   \n",
            "2     1000002924      Wilson José Miranda Londoño      BtoC   \n",
            "3     1000069179                  Víctor Valencia      BtoC   \n",
            "4     1000035961              Jorge Bolaños Gómez      BtoC   \n",
            "...          ...                              ...       ...   \n",
            "9995  1000007425       Danna Dary Mercado Benítez      BtoB   \n",
            "9996  1000057180  Alberto Gilberto Alfonso García      BtoC   \n",
            "9997  1000029700               Jorge López Loaiza      BtoB   \n",
            "9998  1000077124             Adrián Ramírez Rojas      BtoC   \n",
            "9999  1000060064           Eduardo Adolfo Sánchez      BtoC   \n",
            "\n",
            "                         correo  edad             telefono  \n",
            "0      sandovalraul@example.net    32      (+57)3205505955  \n",
            "1       rivasangela@example.net    24        +573258391819  \n",
            "2       yanethgomez@example.com    23     57 309 561 38 67  \n",
            "3           ltorres@example.net    40  (+57) 314 014 96 85  \n",
            "4       munozismael@example.net    44           3051462557  \n",
            "...                         ...   ...                  ...  \n",
            "9995  eugeniaorozco@example.com    41      (+57)3024963483  \n",
            "9996          etoro@example.net    24  (+57) 311 773 41 88  \n",
            "9997          rtoro@example.com    44  (+57) 321 278 09 31  \n",
            "9998      nmonsalve@example.com    43      01 8003 749 029  \n",
            "9999     luisbedoya@example.com    32  (+57) 605 868 13 81  \n",
            "\n",
            "[10000 rows x 6 columns]\n"
          ]
        }
      ]
    },
    {
      "cell_type": "markdown",
      "source": [
        "---\n",
        "**2. Mostrar Primeras Filas**\n",
        "\n",
        "> **Mostrar Primeras filas del DataFrame.head()**\n",
        "\n",
        "\n",
        " Ejemplo: Primeras 3 filas\n",
        "\n",
        "print(\"Primeras 3 filas:\")\n",
        "\n",
        "print(aprenderdf.head(3))\n",
        "\n"
      ],
      "metadata": {
        "id": "opOx-eeT5uj2"
      }
    },
    {
      "cell_type": "code",
      "source": [
        "print(\"Primeras 3 filas:\")\n",
        "print(\"=\"*25)\n",
        "print(aprenderdf.head(3))"
      ],
      "metadata": {
        "colab": {
          "base_uri": "https://localhost:8080/",
          "height": 0
        },
        "id": "8t4MqU2Z5-xK",
        "outputId": "98f4250d-ad33-4d46-eda2-0ef7ed8528fa"
      },
      "execution_count": 21,
      "outputs": [
        {
          "output_type": "stream",
          "name": "stdout",
          "text": [
            "Primeras 3 filas:\n",
            "=========================\n",
            "   id_cliente                       nombre categoria  \\\n",
            "0  1000035878                 Doris Torres      BtoB   \n",
            "1  1000092369            Luisa Luz Becerra      BtoB   \n",
            "2  1000002924  Wilson José Miranda Londoño      BtoC   \n",
            "\n",
            "                     correo  edad          telefono  \n",
            "0  sandovalraul@example.net    32   (+57)3205505955  \n",
            "1   rivasangela@example.net    24     +573258391819  \n",
            "2   yanethgomez@example.com    23  57 309 561 38 67  \n"
          ]
        }
      ]
    },
    {
      "cell_type": "markdown",
      "source": [
        "------\n",
        "**3. Mostrar Primeras Filas**\n",
        "> **Últimas filas del DataFrame.tail()**\n",
        "\n",
        "print(\"\\nÚltimas 3 filas:\")\n",
        "\n",
        "print(\"=\"*25)\n",
        "\n",
        "print(aprenderdf.tail(3))"
      ],
      "metadata": {
        "id": "LOIXsgMI56rV"
      }
    },
    {
      "cell_type": "code",
      "source": [
        "print(\"\\nÚltimas 3 filas:\")\n",
        "\n",
        "print(\"=\"*25)\n",
        "\n",
        "print(aprenderdf.tail(3))"
      ],
      "metadata": {
        "colab": {
          "base_uri": "https://localhost:8080/",
          "height": 0
        },
        "id": "jf8A_8xR55OU",
        "outputId": "485db2e2-1733-4ad2-99db-e85384dbfa65"
      },
      "execution_count": 22,
      "outputs": [
        {
          "output_type": "stream",
          "name": "stdout",
          "text": [
            "\n",
            "Últimas 3 filas:\n",
            "=========================\n",
            "      id_cliente                  nombre categoria                  correo  \\\n",
            "9997  1000029700      Jorge López Loaiza      BtoB       rtoro@example.com   \n",
            "9998  1000077124    Adrián Ramírez Rojas      BtoC   nmonsalve@example.com   \n",
            "9999  1000060064  Eduardo Adolfo Sánchez      BtoC  luisbedoya@example.com   \n",
            "\n",
            "      edad             telefono  \n",
            "9997    44  (+57) 321 278 09 31  \n",
            "9998    43      01 8003 749 029  \n",
            "9999    32  (+57) 605 868 13 81  \n"
          ]
        }
      ]
    },
    {
      "cell_type": "markdown",
      "source": [
        "-----\n",
        "**4. Mostrar información del DataFrame**\n",
        "> **Mostrar Información del DataFrame.info**\n",
        "\n",
        "\n",
        "\n",
        "print(\"Información del DataFrame:\")\n",
        "\n",
        "print(\"=\"*25)\n",
        "\n",
        "aprenderdf.info()"
      ],
      "metadata": {
        "id": "2BjegmDy66J1"
      }
    },
    {
      "cell_type": "code",
      "source": [
        "print(\"Información del DataFrame:\")\n",
        "print(\"=\"*25)\n",
        "aprenderdf.info()"
      ],
      "metadata": {
        "colab": {
          "base_uri": "https://localhost:8080/",
          "height": 0
        },
        "id": "eLqeJs227WQX",
        "outputId": "e212febd-21cf-4c6c-f010-d6515597ab26"
      },
      "execution_count": 23,
      "outputs": [
        {
          "output_type": "stream",
          "name": "stdout",
          "text": [
            "Información del DataFrame:\n",
            "=========================\n",
            "<class 'pandas.core.frame.DataFrame'>\n",
            "RangeIndex: 10000 entries, 0 to 9999\n",
            "Data columns (total 6 columns):\n",
            " #   Column      Non-Null Count  Dtype \n",
            "---  ------      --------------  ----- \n",
            " 0   id_cliente  10000 non-null  int64 \n",
            " 1   nombre      10000 non-null  object\n",
            " 2   categoria   10000 non-null  object\n",
            " 3   correo      10000 non-null  object\n",
            " 4   edad        10000 non-null  int64 \n",
            " 5   telefono    10000 non-null  object\n",
            "dtypes: int64(2), object(4)\n",
            "memory usage: 468.9+ KB\n"
          ]
        }
      ]
    },
    {
      "cell_type": "markdown",
      "source": [
        "-----\n",
        "5. **Estadisticas Descriptivas**\n",
        "> **Estadisticas Descriptivas del DataFrame.describe()**\n",
        "\n",
        "print(\"\\nEstadísticas:\")\n",
        "\n",
        "print(\"=\"*25)\n",
        "\n",
        "print(aprenderdf.describe())"
      ],
      "metadata": {
        "id": "5mpeHvGj7fra"
      }
    },
    {
      "cell_type": "code",
      "source": [
        "print(\"\\nEstadísticas:\")\n",
        "\n",
        "print(\"=\"*25)\n",
        "\n",
        "print(aprenderdf.describe())"
      ],
      "metadata": {
        "colab": {
          "base_uri": "https://localhost:8080/",
          "height": 0
        },
        "id": "UN0gpMpe7xxU",
        "outputId": "a7e16e38-0ab8-4e82-8e03-04dea3b39a50"
      },
      "execution_count": 25,
      "outputs": [
        {
          "output_type": "stream",
          "name": "stdout",
          "text": [
            "\n",
            "Estadísticas:\n",
            "=========================\n",
            "         id_cliente          edad\n",
            "count  1.000000e+04  10000.000000\n",
            "mean   1.000050e+09     31.501600\n",
            "std    2.879594e+04      8.056245\n",
            "min    1.000000e+09     18.000000\n",
            "25%    1.000025e+09     25.000000\n",
            "50%    1.000050e+09     32.000000\n",
            "75%    1.000075e+09     38.000000\n",
            "max    1.000100e+09     45.000000\n"
          ]
        }
      ]
    },
    {
      "cell_type": "markdown",
      "source": [
        "-----\n",
        "6. **Estadisticas Descriptivas**\n",
        "> ***¡Práctica! Describe solo la columna 'Edad'***\n",
        "\n",
        "\n",
        "print(\"\\nTu práctica: Ponle un nombre que sea logico y te ayude en tu analisis\")\n",
        "\n",
        "print(\"=\"*25)\n",
        "\n",
        "print(aprenderdf['edad'].describe())"
      ],
      "metadata": {
        "id": "-Jpfs8ub9HJE"
      }
    },
    {
      "cell_type": "code",
      "source": [
        "print(\"\\nTu práctica:\")\n",
        "print(\"=\"*25)\n",
        "\n",
        "print(aprenderdf['edad'].describe())"
      ],
      "metadata": {
        "colab": {
          "base_uri": "https://localhost:8080/",
          "height": 0
        },
        "id": "mDtCl_jb9bFE",
        "outputId": "89e58575-23c9-48cd-ed69-3abc2c511f54"
      },
      "execution_count": 30,
      "outputs": [
        {
          "output_type": "stream",
          "name": "stdout",
          "text": [
            "\n",
            "Tu práctica:\n",
            "=========================\n",
            "count    10000.000000\n",
            "mean        31.501600\n",
            "std          8.056245\n",
            "min         18.000000\n",
            "25%         25.000000\n",
            "50%         32.000000\n",
            "75%         38.000000\n",
            "max         45.000000\n",
            "Name: edad, dtype: float64\n"
          ]
        }
      ]
    },
    {
      "cell_type": "markdown",
      "source": [
        "-----\n",
        "**7. Filtrar DataFrame**\n",
        "> ***¡Práctica! Filtrar solo la columna 'Edad' con los clientes Mayores a 24 años***\n",
        "\n",
        "print(\"Clientes mayores de 24:\")\n",
        "\n",
        "print(\"=\"*25)\n",
        "\n",
        "print(aprenderdf[aprenderdf['edad'] >24])"
      ],
      "metadata": {
        "id": "ToxBgMuA9xy8"
      }
    },
    {
      "cell_type": "code",
      "source": [
        "print(\"Clientes mayores de 24:\")\n",
        "\n",
        "print(\"=\"*25)\n",
        "\n",
        "print(aprenderdf[aprenderdf['edad'] >24])"
      ],
      "metadata": {
        "colab": {
          "base_uri": "https://localhost:8080/",
          "height": 0
        },
        "id": "MT5oCNmf-TnZ",
        "outputId": "426d7401-1f81-4ed2-a03b-2d689eebcaaa"
      },
      "execution_count": 32,
      "outputs": [
        {
          "output_type": "stream",
          "name": "stdout",
          "text": [
            "Clientes mayores de 24:\n",
            "=========================\n",
            "      id_cliente                       nombre categoria  \\\n",
            "0     1000035878                 Doris Torres      BtoB   \n",
            "3     1000069179              Víctor Valencia      BtoC   \n",
            "4     1000035961          Jorge Bolaños Gómez      BtoC   \n",
            "6     1000052491  Camilo Juan Cárdenas Torres      BtoC   \n",
            "7     1000025464  Yenny Edilma Sánchez Pineda      BtoB   \n",
            "...          ...                          ...       ...   \n",
            "9994  1000009491            Mary Juana Ortega      BtoC   \n",
            "9995  1000007425   Danna Dary Mercado Benítez      BtoB   \n",
            "9997  1000029700           Jorge López Loaiza      BtoB   \n",
            "9998  1000077124         Adrián Ramírez Rojas      BtoC   \n",
            "9999  1000060064       Eduardo Adolfo Sánchez      BtoC   \n",
            "\n",
            "                         correo  edad             telefono  \n",
            "0      sandovalraul@example.net    32      (+57)3205505955  \n",
            "3           ltorres@example.net    40  (+57) 314 014 96 85  \n",
            "4       munozismael@example.net    44           3051462557  \n",
            "6       castrooscar@example.com    42        607 787 52 27  \n",
            "7            rosa33@example.com    31    +57 606 334 66 29  \n",
            "...                         ...   ...                  ...  \n",
            "9994       galfonso@example.com    31        311 730 81 19  \n",
            "9995  eugeniaorozco@example.com    41      (+57)3024963483  \n",
            "9997          rtoro@example.com    44  (+57) 321 278 09 31  \n",
            "9998      nmonsalve@example.com    43      01 8003 749 029  \n",
            "9999     luisbedoya@example.com    32  (+57) 605 868 13 81  \n",
            "\n",
            "[7509 rows x 6 columns]\n"
          ]
        }
      ]
    },
    {
      "cell_type": "markdown",
      "source": [
        "-----\n",
        "**7. Filtrar DataFrame**\n",
        "> ***¡Práctica! Filtrar solo la columna 'categoria' con los clientes Mayores a 24 años***\n",
        "\n",
        "print(\"Estudiantes mayores de BtoC:\")\n",
        "\n",
        "print(\"=\"*25)\n",
        "\n",
        "print(aprenderdf[aprenderdf['categoria'] =='BtoC'])"
      ],
      "metadata": {
        "id": "BKvsYUvb-ey_"
      }
    },
    {
      "cell_type": "code",
      "source": [
        "print(\"Estudiantes mayores de BtoC:\")\n",
        "\n",
        "print(\"=\"*25)\n",
        "\n",
        "print(aprenderdf[aprenderdf['categoria'] =='BtoC'])"
      ],
      "metadata": {
        "colab": {
          "base_uri": "https://localhost:8080/",
          "height": 0
        },
        "id": "o-vy5zco-7-L",
        "outputId": "4ea06dbf-deda-44a7-96b5-2d94cb972939"
      },
      "execution_count": 34,
      "outputs": [
        {
          "output_type": "stream",
          "name": "stdout",
          "text": [
            "Estudiantes mayores de BtoC:\n",
            "=========================\n",
            "      id_cliente                           nombre categoria  \\\n",
            "2     1000002924      Wilson José Miranda Londoño      BtoC   \n",
            "3     1000069179                  Víctor Valencia      BtoC   \n",
            "4     1000035961              Jorge Bolaños Gómez      BtoC   \n",
            "6     1000052491      Camilo Juan Cárdenas Torres      BtoC   \n",
            "9     1000047540          Jairo Manuel León López      BtoC   \n",
            "...          ...                              ...       ...   \n",
            "9993  1000060663            Alberto Rivera Sierra      BtoC   \n",
            "9994  1000009491                Mary Juana Ortega      BtoC   \n",
            "9996  1000057180  Alberto Gilberto Alfonso García      BtoC   \n",
            "9998  1000077124             Adrián Ramírez Rojas      BtoC   \n",
            "9999  1000060064           Eduardo Adolfo Sánchez      BtoC   \n",
            "\n",
            "                          correo  edad             telefono  \n",
            "2        yanethgomez@example.com    23     57 309 561 38 67  \n",
            "3            ltorres@example.net    40  (+57) 314 014 96 85  \n",
            "4        munozismael@example.net    44           3051462557  \n",
            "6        castrooscar@example.com    42        607 787 52 27  \n",
            "9     nataliaacevedo@example.com    39      (+57)3019099329  \n",
            "...                          ...   ...                  ...  \n",
            "9993         maria13@example.com    22        311 990 55 62  \n",
            "9994        galfonso@example.com    31        311 730 81 19  \n",
            "9996           etoro@example.net    24  (+57) 311 773 41 88  \n",
            "9998       nmonsalve@example.com    43      01 8003 749 029  \n",
            "9999      luisbedoya@example.com    32  (+57) 605 868 13 81  \n",
            "\n",
            "[5079 rows x 6 columns]\n"
          ]
        }
      ]
    },
    {
      "cell_type": "markdown",
      "source": [
        "-----\n",
        "**8. Ordenar DataFrame**\n",
        "> ***¡Práctica! Ordena por edad ascendente y luego por nombre***\n",
        "\n",
        "print(\"\\nTu práctica:\")\n",
        "\n",
        "print(\"=\"*25)\n",
        "\n",
        "print(aprenderdf.sort_values(by=['edad', 'nombre'], ascending=True))"
      ],
      "metadata": {
        "id": "j2SvNJgx_GFx"
      }
    },
    {
      "cell_type": "code",
      "source": [
        "print(\"\\nTu práctica:\")\n",
        "\n",
        "print(\"=\"*25)\n",
        "\n",
        "print(aprenderdf.sort_values(by=['edad', 'nombre'], ascending=True))"
      ],
      "metadata": {
        "colab": {
          "base_uri": "https://localhost:8080/",
          "height": 0
        },
        "id": "XYEr4I1V_oLl",
        "outputId": "031c5345-29cb-4f3c-b454-37f62b1adf10"
      },
      "execution_count": 36,
      "outputs": [
        {
          "output_type": "stream",
          "name": "stdout",
          "text": [
            "\n",
            "Tu práctica:\n",
            "=========================\n",
            "      id_cliente                               nombre categoria  \\\n",
            "6695  1000019557           Adriana Rocío Silva Castro      BtoC   \n",
            "934   1000064776                          Aida Suárez      BtoC   \n",
            "39    1000004659               Alba González Martínez      BtoB   \n",
            "1387  1000013976     Albeiro Luis Gutiérrez Benavides      BtoB   \n",
            "2681  1000011875  Albert Dagoberto Valderrama Herrera      BtoB   \n",
            "...          ...                                  ...       ...   \n",
            "831   1000011063                  Óscar Camilo Suárez      BtoB   \n",
            "2890  1000083764                  Óscar David Barrios      BtoB   \n",
            "8549  1000070781           Óscar Diego Zuluaga Orozco      BtoB   \n",
            "63    1000021950                  Óscar Eduardo Pardo      BtoC   \n",
            "6710  1000063901                  Óscar Ángel Mendoza      BtoB   \n",
            "\n",
            "                         correo  edad           telefono  \n",
            "6695   navarrocesar@example.com    18       018007032613  \n",
            "934       ivillegas@example.net    18  +57 309 487 09 93  \n",
            "39    andressanchez@example.com    18       573257807004  \n",
            "1387     fernanda26@example.net    18    (+57)3153105599  \n",
            "2681        pablo87@example.net    18      604 677 57 93  \n",
            "...                         ...   ...                ...  \n",
            "831     salazarjose@example.org    45      +573083696276  \n",
            "2890   aguilaryeimy@example.net    45    (+57)3211126240  \n",
            "8549       miguel35@example.net    45       573054887283  \n",
            "63     torreshector@example.com    45    (+57)6088346556  \n",
            "6710     ugutierrez@example.org    45         3277218301  \n",
            "\n",
            "[10000 rows x 6 columns]\n"
          ]
        }
      ]
    },
    {
      "cell_type": "markdown",
      "source": [
        "-----\n",
        "**9. Crear Función**\n",
        "> ***¡Práctica! Crear una función que aumente la edad de los cleinets en un año***\n",
        "\n",
        "def aumentar_edad(edad):\n",
        "    return edad + 1\n",
        "\n",
        "\n",
        "print(\"Edad aumentada:\")\n",
        "print(\"=\"*25)\n",
        "\n",
        "print(aprenderdf['edad'].apply(aumentar_edad))\n"
      ],
      "metadata": {
        "id": "Ji3Qa7PN_2Jq"
      }
    },
    {
      "cell_type": "code",
      "source": [
        "def aumentar_edad(edad):\n",
        "    return edad + 1\n",
        "\n",
        "print(\"Edad aumentada:\")\n",
        "print(\"=\"*25)\n",
        "print(aprenderdf['edad'].apply(aumentar_edad))"
      ],
      "metadata": {
        "colab": {
          "base_uri": "https://localhost:8080/",
          "height": 0
        },
        "id": "MJkx83vj_wx9",
        "outputId": "8f46c19f-4d87-4a38-9ebc-c8ffafaa14b7"
      },
      "execution_count": 38,
      "outputs": [
        {
          "output_type": "stream",
          "name": "stdout",
          "text": [
            "Edad aumentada:\n",
            "=========================\n",
            "0       33\n",
            "1       25\n",
            "2       24\n",
            "3       41\n",
            "4       45\n",
            "        ..\n",
            "9995    42\n",
            "9996    25\n",
            "9997    45\n",
            "9998    44\n",
            "9999    33\n",
            "Name: edad, Length: 10000, dtype: int64\n"
          ]
        }
      ]
    },
    {
      "cell_type": "markdown",
      "source": [
        "-----\n",
        "**9. Exportar Data Frame a CSV**\n",
        "> ***¡Práctica! Creando un CSV con tu DataFrame***\n",
        "\n",
        "aprenderdf.to_csv('Mi_Primer_DataFrame.csv',index=False)\n",
        "> **Si Ejecutas este Notebook en colab busca tu CSV en el icono de carpeta en el costado izquierdo**"
      ],
      "metadata": {
        "id": "1zmgjxVkAmZ_"
      }
    },
    {
      "cell_type": "code",
      "source": [
        "aprenderdf.to_csv('Mi_Primer_DataFrame.csv',index=False)\n",
        "print(\"=\"*25)\n",
        "print(\"CSV Exportado con Exito\")\n",
        "print(\"=\"*25)\n",
        "print(\"Busca tu CSV en el icono de carpeta en el costado izquierdo💾\")\n",
        "print(\"=\"*25)\n"
      ],
      "metadata": {
        "colab": {
          "base_uri": "https://localhost:8080/",
          "height": 0
        },
        "id": "cCGbwjZ7A-XV",
        "outputId": "6ea2d28e-969d-47d8-c1a0-89134866ed21"
      },
      "execution_count": 44,
      "outputs": [
        {
          "output_type": "stream",
          "name": "stdout",
          "text": [
            "=========================\n",
            "CSV Exportado con Exito\n",
            "=========================\n",
            "Busca tu CSV en el icono de carpeta en el costado izquierdo💾\n",
            "=========================\n"
          ]
        }
      ]
    },
    {
      "cell_type": "markdown",
      "source": [
        "# **DIVIERTE CREANDO🤗**\n",
        "\n",
        "*Si este poyecto te fue de ayuda. pasa por mi linkedin y cuentame como te ayudo. ☕*\n",
        "\n",
        "* **linkedink:** https://www.linkedin.com/in/cristhianandrescalleseverino/\n",
        "\n",
        "He dejado Las siguientes celdas para que agregues tus propios ejericios o funciones, animate a **crear**.\n",
        "\n",
        "***Ser cada día un 1% mejor es la clave 🔥***"
      ],
      "metadata": {
        "id": "bMc31ythgMZH"
      }
    },
    {
      "cell_type": "markdown",
      "source": [
        "\n",
        "\n",
        "> Podrias agregar metricas a los clientes creados como total de gasto. ciudad en la que vive, Costos por clientes o Crear caracteristicas como Recencia.\n",
        "\n"
      ],
      "metadata": {
        "id": "sMDiMHPLBWvu"
      }
    },
    {
      "cell_type": "code",
      "source": [],
      "metadata": {
        "id": "1bisauNPHqaT"
      },
      "execution_count": null,
      "outputs": []
    },
    {
      "cell_type": "code",
      "source": [],
      "metadata": {
        "id": "cAfoEu4iTG_w"
      },
      "execution_count": null,
      "outputs": []
    },
    {
      "cell_type": "code",
      "source": [],
      "metadata": {
        "id": "UhAAA3ffTHSL"
      },
      "execution_count": null,
      "outputs": []
    }
  ]
}