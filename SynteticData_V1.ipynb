{
  "nbformat": 4,
  "nbformat_minor": 0,
  "metadata": {
    "colab": {
      "provenance": [],
      "authorship_tag": "ABX9TyPmxknVEVCP8kJ/6SgqikSO",
      "include_colab_link": true
    },
    "kernelspec": {
      "name": "python3",
      "display_name": "Python 3"
    },
    "language_info": {
      "name": "python"
    }
  },
  "cells": [
    {
      "cell_type": "markdown",
      "metadata": {
        "id": "view-in-github",
        "colab_type": "text"
      },
      "source": [
        "<a href=\"https://colab.research.google.com/github/CristhianSeverino/Data_Engeerig_Tools/blob/En-proceso/SynteticData_V1.ipynb\" target=\"_parent\"><img src=\"https://colab.research.google.com/assets/colab-badge.svg\" alt=\"Open In Colab\"/></a>"
      ]
    },
    {
      "cell_type": "markdown",
      "source": [
        "# **Proyecto: Syntetic Data // Datos sinteticos**\n",
        "\n",
        "> Este Notebook es creacion de: **Cristhian Calle Severino**.\n",
        "\n",
        "\n",
        "\n",
        "*   **Github**: https://github.com/CristhianSeverino\n",
        "*   **Linkedin**: https://www.linkedin.com/in/cristhianandrescalleseverino/\n",
        "\n",
        "\n",
        "Diviertete Creando... Pasate a saludar y acontarme si te fue de ayuda este Proyecto.\n",
        "\n",
        "\n",
        "\n",
        "\n"
      ],
      "metadata": {
        "id": "0gDtEq37y6BE"
      }
    },
    {
      "cell_type": "markdown",
      "source": [
        "# **Instalacción E Importación de Librerias**"
      ],
      "metadata": {
        "id": "NinVT31dbNPp"
      }
    },
    {
      "cell_type": "code",
      "source": [
        "!pip install faker\n",
        "from faker import Faker\n",
        "import pandas as pd\n",
        "from datetime import datetime\n",
        "import random"
      ],
      "metadata": {
        "colab": {
          "base_uri": "https://localhost:8080/"
        },
        "id": "tMxPhG_40Vbd",
        "outputId": "3a8671cc-311b-4a81-de57-43b1ba17ccb6"
      },
      "execution_count": 33,
      "outputs": [
        {
          "output_type": "stream",
          "name": "stdout",
          "text": [
            "Requirement already satisfied: faker in /usr/local/lib/python3.12/dist-packages (37.6.0)\n",
            "Requirement already satisfied: tzdata in /usr/local/lib/python3.12/dist-packages (from faker) (2025.2)\n"
          ]
        }
      ]
    },
    {
      "cell_type": "markdown",
      "source": [
        "# **Creación de Datos Sinteticos**\n",
        "* Recomiendo leer el Readme antes de emplear este Notebook.\n",
        "* Adapta la data generada acorde a las necesidades del proyecto.\n",
        "* En este proyecto cree tres tablas. pero puedes agregar cuatas desees. y segun la arquitctura de datos objetivo.\n",
        "* Ten en cuenta para que usaras la data. que proceso descriuben. que insighst deseas simular. asi como ML. DL o MLL. a ser alimentados.\n",
        "* Recomiendo visitar mis repositorios de Data Sciece, Deepp Learnning, Data Engeneerig. donde econtraras aplicaciones practicas para datasets como el aqui creado.\n",
        "\n",
        "**Diviertete Creando**"
      ],
      "metadata": {
        "id": "Yb5bBp3pbUOv"
      }
    },
    {
      "cell_type": "code",
      "source": [
        "# Cofiguracion de Fake, ajustala Segun  las especifiaciones del dataset que deseas crear.\n",
        "#   * ten en cueta el publico y su comportamieento con los productos de la orgaizacion que deseas reccrear\n",
        "#   * Recuerda tener muy presemnte el modelo de negocio, su cultura e idenidad de marca\n",
        "fake= Faker('es_CO')\n",
        "Faker.seed(42)\n",
        "\n"
      ],
      "metadata": {
        "id": "k6w6t2bcyzJG"
      },
      "execution_count": 34,
      "outputs": []
    },
    {
      "cell_type": "code",
      "execution_count": 35,
      "metadata": {
        "colab": {
          "base_uri": "https://localhost:8080/"
        },
        "id": "y2KAXn5myweR",
        "outputId": "fb3c56e3-0545-467c-e1df-47e8daa75bde"
      },
      "outputs": [
        {
          "output_type": "stream",
          "name": "stdout",
          "text": [
            "==============================   Datos Generados Exitosameente   ==============================\n",
            "           id                     nombre categoria  \\\n",
            "0  1000083810       María Marcela Torres         C   \n",
            "1  1000049615  Esperanza Fabiola Beltrán         B   \n",
            "2  1000065435       James Franco Sánchez         A   \n",
            "3  1000034522        Johana López Pineda         C   \n",
            "4  1000030007           Nora Ruby García         A   \n",
            "\n",
            "                         correo  \\\n",
            "0    buitragostiven@example.org   \n",
            "1        diegogomez@example.org   \n",
            "2   mauriciomontoya@example.net   \n",
            "3  luciacastellanos@example.net   \n",
            "4         enrique38@example.org   \n",
            "\n",
            "                                           direccion fecha_nacimiento  \\\n",
            "0  Cr. 78 # 5-19\\nApartamento 1\\n688908\\nCimitarr...       1990-02-23   \n",
            "1      Cl. 31 # 33-8 Sur\\n275255\\nMedio Baudó, Chocó       1965-04-24   \n",
            "2  Cr. 29N # 8-99 Sur\\n681012\\nFloridablanca, San...       2005-12-23   \n",
            "3  Avenida María Olga García # 82-92\\n884303\\nSan...       1965-01-10   \n",
            "4  Cr. 110 # 25-4\\nTorre 8 apartamento 7\\n736566\\...       1960-09-08   \n",
            "\n",
            "          telefono                                           servicio  \n",
            "0  (+57)3142351161  [Deportes, Bibliotecas, Centros Rcreacionales,...  \n",
            "1  01 8003 503 056  [Subsidios, Creditos, Bibliotecas, Eventos Cul...  \n",
            "2          7184514  [Deporte y Acondicionamiento Fisico, Creditos,...  \n",
            "3     573238346578  [Servicios Medicos, Plan Medicina Prepagada, V...  \n",
            "4    +573226247317  [Servicios Medicos, Eventos Culturales, Educac...  \n",
            "======================================================================\n",
            "Descripción del data Frame:   .describe()\n",
            "======================================================================\n",
            "                 id\n",
            "count  1.000000e+05\n",
            "mean   1.000050e+09\n",
            "std    2.886802e+04\n",
            "min    1.000000e+09\n",
            "25%    1.000025e+09\n",
            "50%    1.000050e+09\n",
            "75%    1.000075e+09\n",
            "max    1.000100e+09\n",
            "======================================================================\n",
            "Informació del data Frame: .info()\n",
            "======================================================================\n",
            "<class 'pandas.core.frame.DataFrame'>\n",
            "RangeIndex: 100000 entries, 0 to 99999\n",
            "Data columns (total 8 columns):\n",
            " #   Column            Non-Null Count   Dtype \n",
            "---  ------            --------------   ----- \n",
            " 0   id                100000 non-null  int64 \n",
            " 1   nombre            100000 non-null  object\n",
            " 2   categoria         100000 non-null  object\n",
            " 3   correo            100000 non-null  object\n",
            " 4   direccion         100000 non-null  object\n",
            " 5   fecha_nacimiento  100000 non-null  object\n",
            " 6   telefono          100000 non-null  object\n",
            " 7   servicio          100000 non-null  object\n",
            "dtypes: int64(1), object(7)\n",
            "memory usage: 6.1+ MB\n",
            "None\n",
            "Datos Guardados en usuarios2024.csv\n"
          ]
        }
      ],
      "source": [
        "#===================================   Tabla 1   =============================================\n",
        "# Generar datos para un DataFrame\n",
        "datos = []\n",
        "ids_usados = set()\n",
        "while len(datos) < 100000:\n",
        "    id_candidato = fake.random_int(min=1000000000, max=1000100000)\n",
        "    if id_candidato not in ids_usados:\n",
        "        ids_usados.add(id_candidato)\n",
        "        datos.append({\n",
        "            'id': id_candidato,\n",
        "            'nombre':fake.name(),\n",
        "            'categoria' : fake.random_element(['A','B','C']),\n",
        "            'correo':fake.email(),\n",
        "            'direccion' : fake.address(),\n",
        "            'fecha_nacimiento' : fake.date_of_birth(minimum_age=18, maximum_age=75),\n",
        "            'telefono': fake.phone_number(),\n",
        "            'servicio' : fake.random_elements(elements=servicios)\n",
        "        })\n",
        "\n",
        "print(\"=\"*30+\"   Datos Generados Exitosameente   \"+\"=\"*30)\n",
        "# print(datos) # Commenting out printing all data to avoid large output\n",
        "\n",
        "#====================================   Crear un DataFrame con pandas   ================================================\n",
        "df= pd.DataFrame(datos)\n",
        "print(df.head())\n",
        "print(\"=\"*70)\n",
        "print(\"Descripción del data Frame:   .describe()\")\n",
        "print(\"=\"*70)\n",
        "print(df.describe())\n",
        "print(\"=\"*70)\n",
        "print(\"Informació del data Frame: .info()\")\n",
        "print(\"=\"*70)\n",
        "print(df.info())\n",
        "#================================================   Guardar en CSV   ==================================================\n",
        "df.to_csv('usuarios2024.csv', index=False, encoding='utf-8')\n",
        "print(\"Datos Guardados en usuarios2024.csv\")"
      ]
    },
    {
      "cell_type": "code",
      "source": [
        "#===================================   Tabla 2   =============================================\n",
        "\n",
        "# Extrae los IDs geneerados para el primer Data Frame\n",
        "\n",
        "ids_disponibles = df['id'].tolist()\n",
        "\n",
        "# Lista de servicios posibles\n",
        "servicios = ['Subsidios', 'Servicios Medicos','Plan Medicina Prepagada', 'Vacunación', 'Deporte y Acondicionamiento Fisico','Educación','Bibliotecas','Eventos Culturales',\n",
        "             'Centros Rcreacionales', 'Deportes','Creditos']\n",
        "#===========================   Generar datos para el segundo DataFrame (servicios_usados)   =============================\n",
        "datos_servicios = []\n",
        "num_registros = 200000\n",
        "\n",
        "# Asegurar que cada Id se use al menos una vez\n",
        "for id_afiliado in ids_disponibles:\n",
        "    datos_servicios.append({\n",
        "        'id' : id_afiliado,\n",
        "        'servicio' : fake.random_element(elements=servicios),\n",
        "        'fecha': fake.date_between(start_date=datetime(2024, 1, 1), end_date=datetime(2024, 12, 31))\n",
        "    })\n",
        "\n",
        "# Generar registros adicionales para alcanzar num_registros\n",
        "while len(datos_servicios) < num_registros:\n",
        "    datos_servicios.append({\n",
        "        'id' : random.choice(ids_disponibles),\n",
        "        'servicio' : fake.random_element(elements=servicios),\n",
        "        'fecha':fake.date_between(start_date=datetime(2024, 1, 1), end_date=datetime(2024, 12, 31))\n",
        "        })\n",
        "\n",
        "df_servicios = pd.DataFrame(datos_servicios)\n",
        "print(df_servicios.head())\n",
        "print(\"=\"*70)\n",
        "print(\"Descripción del data Frame:   .describe()\")\n",
        "print(\"=\"*70)\n",
        "print(df_servicios.describe())\n",
        "print(\"=\"*70)\n",
        "print(\"Informació del data Frame: .info()\")\n",
        "print(\"=\"*70)\n",
        "print(df_servicios.info())\n",
        "\n",
        "#================================================   Guardar en CSV   ==================================================\n",
        "df_servicios.to_csv('servicios_usados.csv', index=False, encoding='utf-8')\n",
        "print(\"Datos Guardados en servicios_usados.csv\")"
      ],
      "metadata": {
        "colab": {
          "base_uri": "https://localhost:8080/"
        },
        "id": "5TOqFSk62_Zr",
        "outputId": "669f4c3b-2b2d-49e0-ad36-4087b5bdfacb"
      },
      "execution_count": 36,
      "outputs": [
        {
          "output_type": "stream",
          "name": "stdout",
          "text": [
            "           id               servicio       fecha\n",
            "0  1000083810              Educación  2024-10-28\n",
            "1  1000049615              Educación  2024-01-24\n",
            "2  1000065435               Creditos  2024-10-31\n",
            "3  1000034522  Centros Rcreacionales  2024-09-27\n",
            "4  1000030007  Centros Rcreacionales  2024-05-13\n",
            "======================================================================\n",
            "Descripción del data Frame:   .describe()\n",
            "======================================================================\n",
            "                 id\n",
            "count  2.000000e+05\n",
            "mean   1.000050e+09\n",
            "std    2.886971e+04\n",
            "min    1.000000e+09\n",
            "25%    1.000025e+09\n",
            "50%    1.000050e+09\n",
            "75%    1.000075e+09\n",
            "max    1.000100e+09\n",
            "======================================================================\n",
            "Informació del data Frame: .info()\n",
            "======================================================================\n",
            "<class 'pandas.core.frame.DataFrame'>\n",
            "RangeIndex: 200000 entries, 0 to 199999\n",
            "Data columns (total 3 columns):\n",
            " #   Column    Non-Null Count   Dtype \n",
            "---  ------    --------------   ----- \n",
            " 0   id        200000 non-null  int64 \n",
            " 1   servicio  200000 non-null  object\n",
            " 2   fecha     200000 non-null  object\n",
            "dtypes: int64(1), object(2)\n",
            "memory usage: 4.6+ MB\n",
            "None\n",
            "Datos Guardados en servicios_usados.csv\n"
          ]
        }
      ]
    },
    {
      "cell_type": "code",
      "metadata": {
        "colab": {
          "base_uri": "https://localhost:8080/"
        },
        "id": "72b5e2c1",
        "outputId": "abda1285-86a7-4db2-e26a-6d9e71f6caa6"
      },
      "source": [
        "#===================================   Tabla 3   =============================================\n",
        "\n",
        "# Extrae los IDs geneerados para el primer Data Frame\n",
        "\n",
        "ids_disponibles = df['id'].tolist()\n",
        "\n",
        "# Lista de servicios posibles\n",
        "subsidios = ['Subsidio Familiar Monetario', 'Subsidio de Vivienda', 'Subsidio Educativo', 'Subsidio de Desempleo']\n",
        "#===========================   Generar datos para el segundo DataFrame (servicios_usados)   =============================\n",
        "datos_subsidios = []\n",
        "num_registros2 = 150000\n",
        "\n",
        "# Asegurar que cada Id se use al menos una vez\n",
        "for id_afiliado in ids_disponibles:\n",
        "    datos_subsidios.append({\n",
        "        'id' : id_afiliado,\n",
        "        'tipo_subsidio' : fake.random_element(elements=subsidios),\n",
        "        'monto': fake.random_int(min=100000, max=39000000),\n",
        "        'fecha': fake.date_between(start_date=datetime(2024, 1, 1), end_date=datetime(2024, 12, 31))\n",
        "    })\n",
        "\n",
        "# Generar registros adicionales para alcanzar num_registros\n",
        "while len(datos_subsidios) < num_registros2:\n",
        "    datos_subsidios.append({\n",
        "        'id' : random.choice(ids_disponibles),\n",
        "        'tipo_subsidio' : fake.random_element(elements=subsidios),\n",
        "        'monto': fake.random_int(min=100000, max=39000000),\n",
        "        'fecha':fake.date_between(start_date=datetime(2024, 1, 1), end_date=datetime(2024, 12, 31))\n",
        "        })\n",
        "\n",
        "df_subsidios = pd.DataFrame(datos_subsidios)\n",
        "print(df_subsidios.head())\n",
        "print(\"=\"*70)\n",
        "print(\"Descripción del data Frame:   .describe()\")\n",
        "print(\"=\"*70)\n",
        "print(df_subsidios.describe())\n",
        "print(\"=\"*70)\n",
        "print(\"Informació del data Frame: .info()\")\n",
        "print(\"=\"*70)\n",
        "print(df_subsidios.info())\n",
        "\n",
        "#================================================   Guardar en CSV   ==================================================\n",
        "df_subsidios.to_csv('servicios_usados.csv', index=False, encoding='utf-8')\n",
        "print(\"Datos Guardados en servicios_usados.csv\")"
      ],
      "execution_count": 37,
      "outputs": [
        {
          "output_type": "stream",
          "name": "stdout",
          "text": [
            "           id                tipo_subsidio     monto       fecha\n",
            "0  1000083810  Subsidio Familiar Monetario  33942240  2024-11-16\n",
            "1  1000049615  Subsidio Familiar Monetario   3374640  2024-01-06\n",
            "2  1000065435  Subsidio Familiar Monetario  30390409  2024-04-02\n",
            "3  1000034522        Subsidio de Desempleo  36736887  2024-10-13\n",
            "4  1000030007        Subsidio de Desempleo  35162460  2024-04-06\n",
            "======================================================================\n",
            "Descripción del data Frame:   .describe()\n",
            "======================================================================\n",
            "                 id         monto\n",
            "count  1.500000e+05  1.500000e+05\n",
            "mean   1.000050e+09  1.958991e+07\n",
            "std    2.886794e+04  1.122997e+07\n",
            "min    1.000000e+09  1.002250e+05\n",
            "25%    1.000025e+09  9.879517e+06\n",
            "50%    1.000050e+09  1.961649e+07\n",
            "75%    1.000075e+09  2.932583e+07\n",
            "max    1.000100e+09  3.899995e+07\n",
            "======================================================================\n",
            "Informació del data Frame: .info()\n",
            "======================================================================\n",
            "<class 'pandas.core.frame.DataFrame'>\n",
            "RangeIndex: 150000 entries, 0 to 149999\n",
            "Data columns (total 4 columns):\n",
            " #   Column         Non-Null Count   Dtype \n",
            "---  ------         --------------   ----- \n",
            " 0   id             150000 non-null  int64 \n",
            " 1   tipo_subsidio  150000 non-null  object\n",
            " 2   monto          150000 non-null  int64 \n",
            " 3   fecha          150000 non-null  object\n",
            "dtypes: int64(2), object(2)\n",
            "memory usage: 4.6+ MB\n",
            "None\n",
            "Datos Guardados en servicios_usados.csv\n"
          ]
        }
      ]
    },
    {
      "cell_type": "code",
      "source": [],
      "metadata": {
        "id": "F_Q-Qka5UpVa"
      },
      "execution_count": 37,
      "outputs": []
    },
    {
      "cell_type": "markdown",
      "source": [
        "# ***Verifica la Crreacion de los CSV en el icono de carpta.costado izquiero de colab***"
      ],
      "metadata": {
        "id": "bMc31ythgMZH"
      }
    },
    {
      "cell_type": "code",
      "source": [],
      "metadata": {
        "id": "q-7H2MbKgVnu"
      },
      "execution_count": null,
      "outputs": []
    }
  ]
}